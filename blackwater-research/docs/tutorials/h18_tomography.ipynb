{
 "cells": [
  {
   "cell_type": "code",
   "execution_count": 1,
   "metadata": {
    "collapsed": true
   },
   "outputs": [],
   "source": [
    "import json, os, pickle, random\n",
    "import numpy as np\n",
    "from tqdm.notebook import tqdm\n",
    "import pandas as pd\n",
    "\n",
    "import torch\n",
    "from torch.utils.data import Dataset, DataLoader, TensorDataset\n",
    "from torch.optim.lr_scheduler import ReduceLROnPlateau\n",
    "import torch.nn as nn\n",
    "\n",
    "import qiskit\n",
    "from qiskit import QuantumCircuit, execute\n",
    "from qiskit.compiler import transpile\n",
    "from qiskit_aer import AerSimulator, QasmSimulator\n",
    "from qiskit.converters import circuit_to_dag, dag_to_circuit\n",
    "from qiskit.quantum_info import SparsePauliOp, Operator\n",
    "from qiskit.circuit.library import CXGate, RXGate, IGate, ZGate\n",
    "from qiskit.providers.fake_provider import FakeMontreal, FakeLima, FakeGuadalupe, FakeJakarta\n",
    "\n",
    "from blackwater.data.utils import (\n",
    "    generate_random_pauli_sum_op,\n",
    "    create_estimator_meas_data,\n",
    "    circuit_to_graph_data_json,\n",
    "    get_backend_properties_v1,\n",
    "    encode_pauli_sum_op,\n",
    "    create_meas_data_from_estimators\n",
    ")\n",
    "\n",
    "from mlp import MLP1, MLP2, MLP3, encode_data\n",
    "\n",
    "from mbd_utils import cal_z_exp, generate_disorder, construct_mbl_circuit, calc_imbalance, modify_and_add_noise_to_model\n",
    "\n",
    "import matplotlib.pyplot as plt\n",
    "import seaborn as sns\n",
    "from noise_utils import AddNoise\n",
    "from typing import Optional, Union\n",
    "from qiskit.opflow import PauliSumOp\n",
    "from qiskit.quantum_info import random_pauli_list, SparsePauliOp\n",
    "\n",
    "D = {'output': 'mpl', 'fold': -1, 'idle_wires': False}"
   ]
  },
  {
   "cell_type": "code",
   "execution_count": 2,
   "outputs": [],
   "source": [
    "def fix_random_seed(seed=0):\n",
    "    random.seed(seed)\n",
    "    os.environ['PYTHONHASHSEED'] = str(seed)\n",
    "    np.random.seed(seed)\n",
    "    torch.manual_seed(seed)\n",
    "    torch.cuda.manual_seed(seed)\n",
    "    torch.cuda.manual_seed_all(seed)  # if you are using multi-GPU.\n",
    "    torch.backends.cudnn.benchmark = False\n",
    "    torch.backends.cudnn.deterministic = True\n",
    "    print(f'random seed fixed to {seed}')"
   ],
   "metadata": {
    "collapsed": false
   }
  },
  {
   "cell_type": "code",
   "execution_count": 3,
   "outputs": [],
   "source": [
    "backend = FakeGuadalupe()\n",
    "properties = get_backend_properties_v1(backend)\n",
    "\n",
    "## Local\n",
    "backend_ideal = QasmSimulator() # Noiseless\n",
    "backend_noisy = AerSimulator.from_backend(backend) # Noisy\n",
    "\n",
    "run_config_ideal = {'shots': 10000, 'backend': backend_ideal, 'name': 'ideal'}\n",
    "run_config_noisy = {'shots': 10000, 'backend': backend_noisy, 'name': 'noisy'}"
   ],
   "metadata": {
    "collapsed": false
   }
  },
  {
   "cell_type": "code",
   "execution_count": 4,
   "outputs": [],
   "source": [
    "def load_circuits(data_dir, f_ext='.json'):\n",
    "    circuits = []\n",
    "    ideal_exp_vals = []\n",
    "    noisy_exp_vals = []\n",
    "    meas_basis = []\n",
    "    data_files = [os.path.join(data_dir, f) for f in os.listdir(data_dir) if f.endswith(f_ext)]\n",
    "    for data_file in tqdm(data_files, leave=True):\n",
    "        if f_ext == '.json':\n",
    "            for entry in json.load(open(data_file, 'r')):\n",
    "                circuits.append(QuantumCircuit.from_qasm_str(entry['circuit']))\n",
    "                ideal_exp_vals.append(entry['ideal_exp_value'])\n",
    "                noisy_exp_vals.append(entry['noisy_exp_values'])\n",
    "        elif f_ext == '.pk':\n",
    "            for entry in pickle.load(open(data_file, 'rb')):\n",
    "                circuits.append(entry['circuit'])\n",
    "                ideal_exp_vals.append(entry['ideal_exp_value'])\n",
    "                noisy_exp_vals.append(entry['noisy_exp_values'])\n",
    "                meas_basis.append(entry['meas_basis'])\n",
    "    return circuits, ideal_exp_vals, noisy_exp_vals, meas_basis"
   ],
   "metadata": {
    "collapsed": false
   }
  },
  {
   "cell_type": "code",
   "execution_count": 9,
   "outputs": [
    {
     "data": {
      "text/plain": "  0%|          | 0/1 [00:00<?, ?it/s]",
      "application/vnd.jupyter.widget-view+json": {
       "version_major": 2,
       "version_minor": 0,
       "model_id": "b04d2915d1ca4bd9a0b9fc53643b3ed7"
      }
     },
     "metadata": {},
     "output_type": "display_data"
    },
    {
     "name": "stdout",
     "output_type": "stream",
     "text": [
      "4096\n"
     ]
    }
   ],
   "source": [
    "# train_circuits, train_ideal_exp_vals, train_noisy_exp_vals, train_meas_bases = load_circuits('./data/ising_init_from_qasm_tomo/train/', '.pk')\n",
    "# print(len(train_circuits))\n",
    "#\n",
    "# test_circuits, test_ideal_exp_vals, test_noisy_exp_vals, test_meas_bases = load_circuits('./data/ising_init_from_qasm_tomo/val/', '.pk')\n",
    "# print(len(test_circuits))\n",
    "\n",
    "circuits, ideal_exp_vals, noisy_exp_vals, meas_bases = load_circuits('./data/ising_init_from_qasm_tomo/', '.pk')\n",
    "print(len(circuits))"
   ],
   "metadata": {
    "collapsed": false
   }
  },
  {
   "cell_type": "code",
   "execution_count": 10,
   "outputs": [],
   "source": [
    "with open('./zne_mitigated/ising_init_from_qasm_tomo_degree1.pk', 'rb') as file:\n",
    "    zne_mitigated = pickle.load(file)"
   ],
   "metadata": {
    "collapsed": false
   }
  },
  {
   "cell_type": "code",
   "execution_count": 11,
   "outputs": [],
   "source": [
    "from qiskit.circuit import Barrier\n",
    "def remove_until_barrier(qc, obs):\n",
    "    circuit = qc.copy()\n",
    "    circuit.remove_final_measurements()\n",
    "    data = list(circuit.data)\n",
    "\n",
    "    if (set(obs) != {'Z'}) and (set(obs) != {'Z', 'I'}):\n",
    "        data.reverse()\n",
    "        for ind, instruction in enumerate(data):\n",
    "            if isinstance(instruction[0], Barrier):\n",
    "                break\n",
    "        data = data[ind:]\n",
    "        data.reverse()\n",
    "\n",
    "    new_circuit = circuit.copy()\n",
    "    new_circuit.data = data\n",
    "\n",
    "    return new_circuit"
   ],
   "metadata": {
    "collapsed": false
   }
  },
  {
   "cell_type": "code",
   "execution_count": 12,
   "outputs": [],
   "source": [
    "from zne import zne, ZNEStrategy\n",
    "from zne.noise_amplification import *\n",
    "from zne.extrapolation import *\n",
    "from qiskit.primitives import BackendEstimator, Estimator\n",
    "ZNEEstimator = zne(BackendEstimator)\n",
    "estimator = ZNEEstimator(backend=backend)\n",
    "zne_strategy = ZNEStrategy(\n",
    "    noise_factors=(1, 3),\n",
    "    noise_amplifier=LocalFoldingAmplifier(gates_to_fold=2),\n",
    "    extrapolator=PolynomialExtrapolator(degree=1)\n",
    ")\n",
    "\n",
    "def get_measurement_qubits(qc, num_measured_qubit):\n",
    "    measurement_qubits = []\n",
    "    for measurement in range(num_measured_qubit - 1, -1, -1):\n",
    "        measurement_qubits.append(qc.data[-1 - measurement][1][0].index)\n",
    "    return measurement_qubits\n",
    "\n",
    "def form_all_qubit_observable(observable, measurement_qubits, total_num_qubits):\n",
    "    assert len(observable) == len(measurement_qubits)\n",
    "    converted_obs = list('I' * total_num_qubits)\n",
    "    for qubit, basis in zip(measurement_qubits, list(observable)):\n",
    "        converted_obs[qubit] = basis\n",
    "    return ''.join(converted_obs)[::-1]\n",
    "\n",
    "# for i, (ideal, noisy, circ, obs) in enumerate(zip(ideal_exp_vals, noisy_exp_vals, circuits, meas_bases)):\n",
    "#     circ_no_meas_circ = remove_until_barrier(circ, obs)\n",
    "#     pad_obs = form_all_qubit_observable(obs, get_measurement_qubits(circ, 6), backend.configuration().num_qubits)\n",
    "#     zne_miti = estimator.run(circ_no_meas_circ, SparsePauliOp(pad_obs), shots=100000, zne_strategy=zne_strategy).result().values\n",
    "#     ideal_from_estimator = Estimator().run(circ_no_meas_circ, observables=SparsePauliOp(pad_obs), shots=100000).result().values\n",
    "#     noisy_from_estimator = BackendEstimator(backend=backend_noisy).run(circ_no_meas_circ, observables=SparsePauliOp(pad_obs), shots=100000).result().values\n",
    "#     print(zne_miti, ideal, ideal_from_estimator, noisy[0], noisy_from_estimator, obs, pad_obs)"
   ],
   "metadata": {
    "collapsed": false
   }
  },
  {
   "cell_type": "code",
   "execution_count": 13,
   "outputs": [
    {
     "name": "stdout",
     "output_type": "stream",
     "text": [
      "16 4080\n",
      "random seed fixed to 0\n"
     ]
    },
    {
     "name": "stderr",
     "output_type": "stream",
     "text": [
      "/var/folders/kj/mfqyg_tj77nf4gt67lvscdkw0000gn/T/ipykernel_56319/3917310903.py:29: DataConversionWarning: A column-vector y was passed when a 1d array was expected. Please change the shape of y to (n_samples,), for example using ravel().\n",
      "  rfr.fit(X_train, y_train)\n"
     ]
    },
    {
     "name": "stdout",
     "output_type": "stream",
     "text": [
      "random seed fixed to 0\n",
      "32 4064\n",
      "random seed fixed to 0\n",
      "random seed fixed to 0\n",
      "64 4032\n"
     ]
    },
    {
     "name": "stderr",
     "output_type": "stream",
     "text": [
      "/var/folders/kj/mfqyg_tj77nf4gt67lvscdkw0000gn/T/ipykernel_56319/3917310903.py:29: DataConversionWarning: A column-vector y was passed when a 1d array was expected. Please change the shape of y to (n_samples,), for example using ravel().\n",
      "  rfr.fit(X_train, y_train)\n"
     ]
    },
    {
     "name": "stdout",
     "output_type": "stream",
     "text": [
      "random seed fixed to 0\n",
      "random seed fixed to 0\n",
      "128 3968\n"
     ]
    },
    {
     "name": "stderr",
     "output_type": "stream",
     "text": [
      "/var/folders/kj/mfqyg_tj77nf4gt67lvscdkw0000gn/T/ipykernel_56319/3917310903.py:29: DataConversionWarning: A column-vector y was passed when a 1d array was expected. Please change the shape of y to (n_samples,), for example using ravel().\n",
      "  rfr.fit(X_train, y_train)\n"
     ]
    },
    {
     "name": "stdout",
     "output_type": "stream",
     "text": [
      "random seed fixed to 0\n",
      "random seed fixed to 0\n",
      "256 3840\n"
     ]
    },
    {
     "name": "stderr",
     "output_type": "stream",
     "text": [
      "/var/folders/kj/mfqyg_tj77nf4gt67lvscdkw0000gn/T/ipykernel_56319/3917310903.py:29: DataConversionWarning: A column-vector y was passed when a 1d array was expected. Please change the shape of y to (n_samples,), for example using ravel().\n",
      "  rfr.fit(X_train, y_train)\n"
     ]
    },
    {
     "name": "stdout",
     "output_type": "stream",
     "text": [
      "random seed fixed to 0\n",
      "random seed fixed to 0\n"
     ]
    },
    {
     "name": "stderr",
     "output_type": "stream",
     "text": [
      "/var/folders/kj/mfqyg_tj77nf4gt67lvscdkw0000gn/T/ipykernel_56319/3917310903.py:29: DataConversionWarning: A column-vector y was passed when a 1d array was expected. Please change the shape of y to (n_samples,), for example using ravel().\n",
      "  rfr.fit(X_train, y_train)\n"
     ]
    },
    {
     "name": "stdout",
     "output_type": "stream",
     "text": [
      "512 3584\n",
      "random seed fixed to 0\n"
     ]
    },
    {
     "name": "stderr",
     "output_type": "stream",
     "text": [
      "/var/folders/kj/mfqyg_tj77nf4gt67lvscdkw0000gn/T/ipykernel_56319/3917310903.py:29: DataConversionWarning: A column-vector y was passed when a 1d array was expected. Please change the shape of y to (n_samples,), for example using ravel().\n",
      "  rfr.fit(X_train, y_train)\n"
     ]
    },
    {
     "name": "stdout",
     "output_type": "stream",
     "text": [
      "random seed fixed to 0\n",
      "1024 3072\n",
      "random seed fixed to 0\n"
     ]
    },
    {
     "name": "stderr",
     "output_type": "stream",
     "text": [
      "/var/folders/kj/mfqyg_tj77nf4gt67lvscdkw0000gn/T/ipykernel_56319/3917310903.py:29: DataConversionWarning: A column-vector y was passed when a 1d array was expected. Please change the shape of y to (n_samples,), for example using ravel().\n",
      "  rfr.fit(X_train, y_train)\n"
     ]
    },
    {
     "name": "stdout",
     "output_type": "stream",
     "text": [
      "random seed fixed to 0\n",
      "2048 2048\n",
      "random seed fixed to 0\n"
     ]
    },
    {
     "name": "stderr",
     "output_type": "stream",
     "text": [
      "/var/folders/kj/mfqyg_tj77nf4gt67lvscdkw0000gn/T/ipykernel_56319/3917310903.py:29: DataConversionWarning: A column-vector y was passed when a 1d array was expected. Please change the shape of y to (n_samples,), for example using ravel().\n",
      "  rfr.fit(X_train, y_train)\n"
     ]
    },
    {
     "name": "stdout",
     "output_type": "stream",
     "text": [
      "random seed fixed to 0\n"
     ]
    }
   ],
   "source": [
    "distances = []\n",
    "for sep in list(2**np.arange(4, 12)):\n",
    "    train_circuits, train_ideal_exp_vals, train_noisy_exp_vals, train_meas_bases = circuits[:sep], ideal_exp_vals[:sep], noisy_exp_vals[:sep], meas_bases[:sep]\n",
    "    test_circuits, test_ideal_exp_vals, test_noisy_exp_vals, test_meas_bases = circuits[sep:], ideal_exp_vals[sep:], noisy_exp_vals[sep:], meas_bases[sep:]\n",
    "    test_zne_mitigated = zne_mitigated[sep:]\n",
    "\n",
    "    print(len(train_circuits), len(test_circuits))\n",
    "\n",
    "    train_observables = [encode_pauli_sum_op(SparsePauliOp(basis))[0] for basis in train_meas_bases]\n",
    "    test_observables = [encode_pauli_sum_op(SparsePauliOp(basis))[0] for basis in test_meas_bases]\n",
    "    train_noisy_exp_vals_copy = [x[0][0] for x in train_noisy_exp_vals]\n",
    "    test_noisy_exp_vals_copy = [x[0][0] for x in test_noisy_exp_vals]\n",
    "    X_train, y_train = encode_data(train_circuits, properties, train_ideal_exp_vals, train_noisy_exp_vals_copy, num_qubits=1, meas_bases=train_observables)\n",
    "    X_test, y_test = encode_data(test_circuits, properties, test_ideal_exp_vals, test_noisy_exp_vals_copy, num_qubits=1, meas_bases=test_observables)\n",
    "\n",
    "    BATCH_SIZE = 32\n",
    "    fix_random_seed(0)\n",
    "    test_dataset = TensorDataset(torch.Tensor(X_test), torch.Tensor(y_test))\n",
    "    test_loader = DataLoader(test_dataset, batch_size=BATCH_SIZE*1000, shuffle=False)\n",
    "\n",
    "    X_train = pd.DataFrame(X_train)\n",
    "    y_train = pd.DataFrame(y_train)\n",
    "    X_test = pd.DataFrame(X_test)\n",
    "    y_test = pd.DataFrame(y_test)\n",
    "\n",
    "    from sklearn.ensemble import RandomForestRegressor, GradientBoostingRegressor\n",
    "    rfr_tree_list = []\n",
    "    rfr = RandomForestRegressor(n_estimators=100)\n",
    "    rfr.fit(X_train, y_train)\n",
    "    rfr_tree_list.append(rfr)\n",
    "\n",
    "    fix_random_seed(0)\n",
    "    num_spins = 1\n",
    "\n",
    "    for batch_X, batch_y in test_loader:\n",
    "        out = []\n",
    "        for q, model in enumerate(rfr_tree_list):\n",
    "            out.append(model.predict(batch_X[:, :]))\n",
    "        out = np.array(out).transpose()\n",
    "\n",
    "        for ideal, noisy, ngm_mitigated, zne_mitigated_, obs in zip(\n",
    "            batch_y.tolist(),\n",
    "            batch_X[:, 54].tolist(),\n",
    "            out.tolist(),\n",
    "            test_zne_mitigated.tolist(),\n",
    "            test_meas_bases,\n",
    "        ):\n",
    "            for q in range(num_spins):\n",
    "                ideal_q = ideal[q]\n",
    "                noisy_q = noisy\n",
    "                ngm_mitigated_q = ngm_mitigated[q]\n",
    "                zne_mitigated_ = zne_mitigated_[q]\n",
    "                distances.append({\n",
    "                    \"num_train_samples\": sep,\n",
    "                    f\"ideal_{q}\": ideal_q,\n",
    "                    f\"noisy_{q}\": noisy_q,\n",
    "                    f\"ngm_mitigated_{q}\": ngm_mitigated_q,\n",
    "                    f\"dist_noisy_{q}\": np.abs(ideal_q - noisy_q),\n",
    "                    f\"dist_mitigated_{q}\": np.abs(ideal_q - ngm_mitigated_q),\n",
    "                    f\"dist_l2_noisy_{q}\": np.sqrt(np.square(ideal_q - noisy_q)),\n",
    "                    f\"dist_l2_mitigated_{q}\": np.sqrt(np.square(ideal_q - ngm_mitigated_q)),\n",
    "                    f\"dist_l2_zne_mitigated_{q}\": np.sqrt(np.square(ideal_q - zne_mitigated_)),\n",
    "                    f\"obs\": obs,\n",
    "                    f\"obs_weights\": len(obs) - obs.count('I'),\n",
    "                })\n",
    "\n",
    "df = pd.DataFrame(distances)"
   ],
   "metadata": {
    "collapsed": false
   }
  },
  {
   "cell_type": "code",
   "execution_count": 15,
   "outputs": [
    {
     "data": {
      "text/plain": "                  dist_l2_mitigated_0           dist_l2_noisy_0            \\\n                                 mean       std            mean       std   \nnum_train_samples                                                           \n16                           0.040691  0.067683        0.039283  0.052268   \n32                           0.029568  0.054210        0.039237  0.052278   \n64                           0.028316  0.034181        0.039162  0.052048   \n128                          0.024744  0.029450        0.039124  0.052244   \n256                          0.022713  0.025989        0.039357  0.052542   \n512                          0.019816  0.020358        0.039015  0.051661   \n1024                         0.018808  0.021798        0.039175  0.051507   \n2048                         0.016837  0.015890        0.040270  0.052868   \n\n                  dist_l2_zne_mitigated_0            \n                                     mean       std  \nnum_train_samples                                    \n16                               0.031476  0.039259  \n32                               0.031429  0.039260  \n64                               0.031396  0.039195  \n128                              0.031348  0.039384  \n256                              0.031406  0.039603  \n512                              0.031180  0.039280  \n1024                             0.031308  0.039640  \n2048                             0.031792  0.037079  ",
      "text/html": "<div>\n<style scoped>\n    .dataframe tbody tr th:only-of-type {\n        vertical-align: middle;\n    }\n\n    .dataframe tbody tr th {\n        vertical-align: top;\n    }\n\n    .dataframe thead tr th {\n        text-align: left;\n    }\n\n    .dataframe thead tr:last-of-type th {\n        text-align: right;\n    }\n</style>\n<table border=\"1\" class=\"dataframe\">\n  <thead>\n    <tr>\n      <th></th>\n      <th colspan=\"2\" halign=\"left\">dist_l2_mitigated_0</th>\n      <th colspan=\"2\" halign=\"left\">dist_l2_noisy_0</th>\n      <th colspan=\"2\" halign=\"left\">dist_l2_zne_mitigated_0</th>\n    </tr>\n    <tr>\n      <th></th>\n      <th>mean</th>\n      <th>std</th>\n      <th>mean</th>\n      <th>std</th>\n      <th>mean</th>\n      <th>std</th>\n    </tr>\n    <tr>\n      <th>num_train_samples</th>\n      <th></th>\n      <th></th>\n      <th></th>\n      <th></th>\n      <th></th>\n      <th></th>\n    </tr>\n  </thead>\n  <tbody>\n    <tr>\n      <th>16</th>\n      <td>0.040691</td>\n      <td>0.067683</td>\n      <td>0.039283</td>\n      <td>0.052268</td>\n      <td>0.031476</td>\n      <td>0.039259</td>\n    </tr>\n    <tr>\n      <th>32</th>\n      <td>0.029568</td>\n      <td>0.054210</td>\n      <td>0.039237</td>\n      <td>0.052278</td>\n      <td>0.031429</td>\n      <td>0.039260</td>\n    </tr>\n    <tr>\n      <th>64</th>\n      <td>0.028316</td>\n      <td>0.034181</td>\n      <td>0.039162</td>\n      <td>0.052048</td>\n      <td>0.031396</td>\n      <td>0.039195</td>\n    </tr>\n    <tr>\n      <th>128</th>\n      <td>0.024744</td>\n      <td>0.029450</td>\n      <td>0.039124</td>\n      <td>0.052244</td>\n      <td>0.031348</td>\n      <td>0.039384</td>\n    </tr>\n    <tr>\n      <th>256</th>\n      <td>0.022713</td>\n      <td>0.025989</td>\n      <td>0.039357</td>\n      <td>0.052542</td>\n      <td>0.031406</td>\n      <td>0.039603</td>\n    </tr>\n    <tr>\n      <th>512</th>\n      <td>0.019816</td>\n      <td>0.020358</td>\n      <td>0.039015</td>\n      <td>0.051661</td>\n      <td>0.031180</td>\n      <td>0.039280</td>\n    </tr>\n    <tr>\n      <th>1024</th>\n      <td>0.018808</td>\n      <td>0.021798</td>\n      <td>0.039175</td>\n      <td>0.051507</td>\n      <td>0.031308</td>\n      <td>0.039640</td>\n    </tr>\n    <tr>\n      <th>2048</th>\n      <td>0.016837</td>\n      <td>0.015890</td>\n      <td>0.040270</td>\n      <td>0.052868</td>\n      <td>0.031792</td>\n      <td>0.037079</td>\n    </tr>\n  </tbody>\n</table>\n</div>"
     },
     "execution_count": 15,
     "metadata": {},
     "output_type": "execute_result"
    }
   ],
   "source": [
    "df2 = df.groupby('num_train_samples').agg({'dist_l2_mitigated_0': ['mean', 'std'],\n",
    "                                           'dist_l2_noisy_0': ['mean', 'std'],\n",
    "                                           'dist_l2_zne_mitigated_0': ['mean', 'std']\n",
    "                                           })\n",
    "df2"
   ],
   "metadata": {
    "collapsed": false
   }
  },
  {
   "cell_type": "code",
   "execution_count": 17,
   "outputs": [
    {
     "data": {
      "text/plain": "<Figure size 600x400 with 2 Axes>",
      "image/png": "[encoded data removed]"
     },
     "metadata": {},
     "output_type": "display_data"
    }
   ],
   "source": [
    "fig = plt.figure(dpi=100)\n",
    "ax1 = fig.add_subplot(111)\n",
    "ax2 = ax1.twiny()\n",
    "\n",
    "x = df2.index\n",
    "\n",
    "y = df2['dist_l2_noisy_0']['mean']\n",
    "ax1.plot(x, y, label='Unmitigated', marker='d')\n",
    "ax1.fill_between(x,\n",
    "                 y-df2['dist_l2_noisy_0']['std']/np.sqrt(4**6 - x),\n",
    "                 y+df2['dist_l2_noisy_0']['std']/np.sqrt(4**6 - x),\n",
    "                 alpha=0.2)\n",
    "\n",
    "y = df2['dist_l2_mitigated_0']['mean']\n",
    "ax1.plot(x, y, label='Mitigated', marker='d')\n",
    "ax1.fill_between(x,\n",
    "                 y-df2['dist_l2_mitigated_0']['std']/np.sqrt(4**6 - x), y+df2['dist_l2_mitigated_0']['std']/np.sqrt(4**6 - x),\n",
    "                 alpha=0.2)\n",
    "\n",
    "y = df2['dist_l2_zne_mitigated_0']['mean']\n",
    "ax1.plot(x, y, label='ZNE', marker='d')\n",
    "ax1.fill_between(x,\n",
    "                 y-df2['dist_l2_zne_mitigated_0']['std']/np.sqrt(4**6 - x), y+df2['dist_l2_zne_mitigated_0']['std']/np.sqrt(4**6 - x),\n",
    "                 alpha=0.2)\n",
    "\n",
    "# ax1.set_yscale('log')\n",
    "# plt.xscale('log')\n",
    "\n",
    "ax2.set_xlim(ax1.get_xlim())\n",
    "ax2.set_navigate(False)\n",
    "import matplotlib.ticker as mticks\n",
    "ticks = ax1.get_xticks()\n",
    "ax2.xaxis.set_major_locator(mticks.FixedLocator(ticks))\n",
    "percent = [int(x) for x in np.array(ticks)/4**6 * 100]\n",
    "ax2.set_xticklabels([str(x) for x in percent])\n",
    "ax2.set_xlabel(r\"Training fraction of all observables (%)\")\n",
    "\n",
    "ax1.set_ylabel(r'Average $\\|\\langle O\\rangle-\\langle O\\rangle _{\\mathregular{ideal}} \\|_2$')\n",
    "ax1.set_xlabel('Number of observables trained on')\n",
    "ax1.legend()\n",
    "\n",
    "plt.style.use({'figure.facecolor':'white'})\n",
    "ax1.grid(False)\n",
    "ax2.grid(False)\n",
    "for tick in ax1.yaxis.get_major_ticks():\n",
    "    tick.tick1line.set_visible(True)\n",
    "ax1.tick_params(axis='y',direction='in')\n",
    "ax1.tick_params(axis='x',direction='in')\n",
    "ax2.tick_params(axis='x',direction='in')\n",
    "plt.show()"
   ],
   "metadata": {
    "collapsed": false
   }
  },
  {
   "cell_type": "code",
   "execution_count": 18,
   "outputs": [],
   "source": [
    "# df_1024 = df[df.num_train_samples==1024]\n",
    "# df_1024.groupby('obs_weights').agg({\n",
    "#     'dist_l2_noisy_0': 'mean',\n",
    "#     'dist_l2_zne_mitigated_0': ['mean', 'std', 'sum', 'size'],\n",
    "#     'dist_l2_mitigated_0': ['mean', 'std', 'sum', 'size']\n",
    "# })"
   ],
   "metadata": {
    "collapsed": false
   }
  },
  {
   "cell_type": "code",
   "execution_count": 41,
   "outputs": [],
   "source": [
    "# to_dump = {\n",
    "#     'df2': df2,\n",
    "#     'df': df,\n",
    "# }\n",
    "# with open('/Users/haoranliao/GitHub/blackwater/docs/paper_figures/tomograhy.pk', 'wb') as file:\n",
    "#     pickle.dump(to_dump, file)"
   ],
   "metadata": {
    "collapsed": false
   }
  },
  {
   "cell_type": "code",
   "execution_count": 109,
   "outputs": [
    {
     "data": {
      "text/plain": "            dist_l2_mitigated_0                  dist_l2_zne_mitigated_0  \\\n                           mean        sum  size                    mean   \nobs_weights                                                                \n1                      0.000293   0.002345     8                0.439804   \n2                      0.028725   2.929968   102                0.144679   \n3                      0.039253  15.661764   399                0.187210   \n4                      0.047268  44.290297   937                0.094222   \n5                      0.049063  52.693311  1074                0.105717   \n6                      0.050577  27.868157   551                0.061105   \n\n                               \n                    sum  size  \nobs_weights                    \n1              3.518429     8  \n2             14.757222   102  \n3             74.696606   399  \n4             88.286028   937  \n5            113.540446  1074  \n6             33.668836   551  ",
      "text/html": "<div>\n<style scoped>\n    .dataframe tbody tr th:only-of-type {\n        vertical-align: middle;\n    }\n\n    .dataframe tbody tr th {\n        vertical-align: top;\n    }\n\n    .dataframe thead tr th {\n        text-align: left;\n    }\n\n    .dataframe thead tr:last-of-type th {\n        text-align: right;\n    }\n</style>\n<table border=\"1\" class=\"dataframe\">\n  <thead>\n    <tr>\n      <th></th>\n      <th colspan=\"3\" halign=\"left\">dist_l2_mitigated_0</th>\n      <th colspan=\"3\" halign=\"left\">dist_l2_zne_mitigated_0</th>\n    </tr>\n    <tr>\n      <th></th>\n      <th>mean</th>\n      <th>sum</th>\n      <th>size</th>\n      <th>mean</th>\n      <th>sum</th>\n      <th>size</th>\n    </tr>\n    <tr>\n      <th>obs_weights</th>\n      <th></th>\n      <th></th>\n      <th></th>\n      <th></th>\n      <th></th>\n      <th></th>\n    </tr>\n  </thead>\n  <tbody>\n    <tr>\n      <th>1</th>\n      <td>0.000293</td>\n      <td>0.002345</td>\n      <td>8</td>\n      <td>0.439804</td>\n      <td>3.518429</td>\n      <td>8</td>\n    </tr>\n    <tr>\n      <th>2</th>\n      <td>0.028725</td>\n      <td>2.929968</td>\n      <td>102</td>\n      <td>0.144679</td>\n      <td>14.757222</td>\n      <td>102</td>\n    </tr>\n    <tr>\n      <th>3</th>\n      <td>0.039253</td>\n      <td>15.661764</td>\n      <td>399</td>\n      <td>0.187210</td>\n      <td>74.696606</td>\n      <td>399</td>\n    </tr>\n    <tr>\n      <th>4</th>\n      <td>0.047268</td>\n      <td>44.290297</td>\n      <td>937</td>\n      <td>0.094222</td>\n      <td>88.286028</td>\n      <td>937</td>\n    </tr>\n    <tr>\n      <th>5</th>\n      <td>0.049063</td>\n      <td>52.693311</td>\n      <td>1074</td>\n      <td>0.105717</td>\n      <td>113.540446</td>\n      <td>1074</td>\n    </tr>\n    <tr>\n      <th>6</th>\n      <td>0.050577</td>\n      <td>27.868157</td>\n      <td>551</td>\n      <td>0.061105</td>\n      <td>33.668836</td>\n      <td>551</td>\n    </tr>\n  </tbody>\n</table>\n</div>"
     },
     "execution_count": 109,
     "metadata": {},
     "output_type": "execute_result"
    }
   ],
   "source": [
    "# estimator = rfr_tree_list[0]\n",
    "#\n",
    "# n_nodes_ = [t.tree_.node_count for t in estimator.estimators_]\n",
    "# children_left_ = [t.tree_.children_left for t in estimator.estimators_]\n",
    "# children_right_ = [t.tree_.children_right for t in estimator.estimators_]\n",
    "# feature_ = [t.tree_.feature for t in estimator.estimators_]\n",
    "# threshold_ = [t.tree_.threshold for t in estimator.estimators_]\n",
    "#\n",
    "# def explore_tree(estimator, n_nodes, children_left, children_right, feature, threshold,\n",
    "#                 suffix='', print_tree= False, sample_id=0, feature_names=None):\n",
    "#\n",
    "#     if not feature_names:\n",
    "#         feature_names = feature\n",
    "#\n",
    "#\n",
    "#     assert len(feature_names) == X_test.shape[1], \"The feature names do not match the number of features.\"\n",
    "#     # The tree structure can be traversed to compute various properties such\n",
    "#     # as the depth of each node and whether or not it is a leaf.\n",
    "#     node_depth = np.zeros(shape=n_nodes, dtype=np.int64)\n",
    "#     is_leaves = np.zeros(shape=n_nodes, dtype=bool)\n",
    "#\n",
    "#     stack = [(0, -1)]  # seed is the root node id and its parent depth\n",
    "#     while len(stack) > 0:\n",
    "#         node_id, parent_depth = stack.pop()\n",
    "#         node_depth[node_id] = parent_depth + 1\n",
    "#\n",
    "#         # If we have a test node\n",
    "#         if (children_left[node_id] != children_right[node_id]):\n",
    "#             stack.append((children_left[node_id], parent_depth + 1))\n",
    "#             stack.append((children_right[node_id], parent_depth + 1))\n",
    "#         else:\n",
    "#             is_leaves[node_id] = True\n",
    "#\n",
    "#     print(\"The binary tree structure has %s nodes\"\n",
    "#           % n_nodes)\n",
    "#     if print_tree:\n",
    "#         print(\"Tree structure: \\n\")\n",
    "#         for i in range(n_nodes):\n",
    "#             if is_leaves[i]:\n",
    "#                 print(\"%snode=%s leaf node.\" % (node_depth[i] * \"\\t\", i))\n",
    "#             else:\n",
    "#                 print(\"%snode=%s test node: go to node %s if X[:, %s] <= %s else to \"\n",
    "#                       \"node %s.\"\n",
    "#                       % (node_depth[i] * \"\\t\",\n",
    "#                          i,\n",
    "#                          children_left[i],\n",
    "#                          feature[i],\n",
    "#                          threshold[i],\n",
    "#                          children_right[i],\n",
    "#                          ))\n",
    "#             print(\"\\n\")\n",
    "#         print()\n",
    "#\n",
    "#     # First let's retrieve the decision path of each sample. The decision_path\n",
    "#     # method allows to retrieve the node indicator functions. A non zero element of\n",
    "#     # indicator matrix at the position (i, j) indicates that the sample i goes\n",
    "#     # through the node j.\n",
    "#\n",
    "#     node_indicator = estimator.decision_path(X_test)\n",
    "#\n",
    "#     # Similarly, we can also have the leaves ids reached by each sample.\n",
    "#\n",
    "#     leave_id = estimator.apply(X_test)\n",
    "#\n",
    "#     # Now, it's possible to get the tests that were used to predict a sample or\n",
    "#     # a group of samples. First, let's make it for the sample.\n",
    "#\n",
    "#     sample_id = 0\n",
    "#     node_index = node_indicator.indices[node_indicator.indptr[sample_id]:\n",
    "#                                         node_indicator.indptr[sample_id + 1]]\n",
    "#\n",
    "#     # print(X_test.iloc[sample_id,:])\n",
    "#\n",
    "#     print('Rules used to predict sample %s: ' % sample_id)\n",
    "#     for node_id in node_index:\n",
    "#         # tabulation = \" \"*node_depth[node_id] #-> makes tabulation of each level of the tree\n",
    "#         tabulation = \"\"\n",
    "#         if leave_id[sample_id] == node_id:\n",
    "#             print(\"%s==> Predicted leaf index \\n\"%(tabulation))\n",
    "#             #continue\n",
    "#\n",
    "#         if (X_test.iloc[sample_id, feature[node_id]] <= threshold[node_id]):\n",
    "#             threshold_sign = \"<=\"\n",
    "#         else:\n",
    "#             threshold_sign = \">\"\n",
    "#\n",
    "#         print(\"%sdecision id node %s : (X_test[%s, '%s'] (= %s) %s %s)\"\n",
    "#               % (tabulation,\n",
    "#                  node_id,\n",
    "#                  sample_id,\n",
    "#                  feature_names[feature[node_id]],\n",
    "#                  X_test.iloc[sample_id, feature[node_id]],\n",
    "#                  threshold_sign,\n",
    "#                  threshold[node_id]))\n",
    "#     print(\"%sPrediction for sample %d: %s\"%(tabulation,\n",
    "#                                           sample_id,\n",
    "#                                           estimator.predict(X_test)[sample_id]))\n",
    "#\n",
    "#     # For a group of samples, we have the following common node.\n",
    "#     sample_ids = [sample_id, 1]\n",
    "#     common_nodes = (node_indicator.toarray()[sample_ids].sum(axis=0) ==\n",
    "#                     len(sample_ids))\n",
    "#\n",
    "#     common_node_id = np.arange(n_nodes)[common_nodes]\n",
    "#\n",
    "#     print(\"\\nThe following samples %s share the node %s in the tree\"\n",
    "#           % (sample_ids, common_node_id))\n",
    "#     print(\"It is %s %% of all nodes.\" % (100 * len(common_node_id) / n_nodes,))\n",
    "#\n",
    "#     for sample_id_ in sample_ids:\n",
    "#         print(\"Prediction for sample %d: %s\"%(sample_id_,\n",
    "#                                           estimator.predict(X_test)[sample_id_]))\n",
    "#\n",
    "#\n",
    "# ########################### Print out the decision path (sample_id = 0) #####################################\n",
    "# for i,e in enumerate(estimator.estimators_):\n",
    "#     print(\"Tree %d\\n\"%i)\n",
    "#     explore_tree(estimator.estimators_[i],n_nodes_[i],children_left_[i],\n",
    "#                  children_right_[i], feature_[i],threshold_[i],\n",
    "#                 suffix=i, sample_id=1, feature_names=[\"Feature_%d\"%i for i in range(X_train.shape[1])])\n",
    "#     print('\\n'*2)"
   ],
   "metadata": {
    "collapsed": false
   }
  },
  {
   "cell_type": "code",
   "execution_count": 22,
   "outputs": [
    {
     "name": "stdout",
     "output_type": "stream",
     "text": [
      "random seed fixed to 0\n",
      "RMSE_noisy_0: 0.2247217175651218\n",
      "RMSE_mitigated_0: 0.029507705593922372\n",
      "RMSE_noisy: 0.2247217175651218\n",
      "RMSE_mitigated: 0.029507705593922372\n"
     ]
    },
    {
     "data": {
      "text/plain": "<Figure size 432x288 with 1 Axes>",
      "image/png": "[encoded data removed]"
     },
     "metadata": {},
     "output_type": "display_data"
    },
    {
     "data": {
      "text/plain": "<Figure size 432x288 with 1 Axes>",
      "image/png": "[encoded data removed]"
     },
     "metadata": {},
     "output_type": "display_data"
    }
   ],
   "source": [
    "fix_random_seed(0)\n",
    "\n",
    "distances = []\n",
    "\n",
    "num_spins = 1\n",
    "\n",
    "for batch_X, batch_y in test_loader:\n",
    "    out = []\n",
    "    for q, model in enumerate(rfr_tree_list):\n",
    "        out.append(model.predict(batch_X[:, :]))\n",
    "    out = np.array(out).transpose()\n",
    "\n",
    "    for ideal, noisy, ngm_mitigated in zip(\n",
    "        batch_y.tolist(),\n",
    "        batch_X[:, 54].tolist(),\n",
    "        out.tolist()\n",
    "    ):\n",
    "        for q in range(num_spins):\n",
    "            ideal_q = ideal[q]\n",
    "            noisy_q = noisy\n",
    "            ngm_mitigated_q = ngm_mitigated[q]\n",
    "            distances.append({\n",
    "                \"num_train_samples\": sep,\n",
    "                f\"ideal_{q}\": ideal_q,\n",
    "                f\"noisy_{q}\": noisy_q,\n",
    "                f\"ngm_mitigated_{q}\": ngm_mitigated_q,\n",
    "                f\"dist_noisy_{q}\": np.abs(ideal_q - noisy_q),\n",
    "                f\"dist_mitigated_{q}\": np.abs(ideal_q - ngm_mitigated_q),\n",
    "                f\"dist_sq_noisy_{q}\": np.square(ideal_q - noisy_q),\n",
    "                f\"dist_sq_mitigated_{q}\": np.square(ideal_q - ngm_mitigated_q),\n",
    "            })\n",
    "\n",
    "plt.style.use({'figure.facecolor':'white'})\n",
    "\n",
    "df = pd.DataFrame(distances)\n",
    "\n",
    "for q in range(num_spins):\n",
    "    print(f'RMSE_noisy_{q}:', np.sqrt(df[f\"dist_sq_noisy_{q}\"].mean()))\n",
    "    print(f'RMSE_mitigated_{q}:', np.sqrt(df[f\"dist_sq_mitigated_{q}\"].mean()))\n",
    "\n",
    "print(f'RMSE_noisy:', np.sqrt(np.mean([df[f\"dist_sq_noisy_{q}\"].mean() for q in range(num_spins)])))\n",
    "print(f'RMSE_mitigated:', np.sqrt(np.mean([df[f\"dist_sq_mitigated_{q}\"].mean() for q in range(num_spins)])))\n",
    "\n",
    "sns.boxplot(data=df[[\"dist_noisy_0\", \"dist_mitigated_0\"]], orient=\"h\", showfliers = False)\n",
    "plt.title(\"Dist to ideal exp value\")\n",
    "plt.show()\n",
    "\n",
    "sns.histplot([df['ideal_0'], df['noisy_0'], df[\"ngm_mitigated_0\"]], kde=True, bins=40)\n",
    "plt.title(\"Exp values distribution\")\n",
    "plt.show()"
   ],
   "metadata": {
    "collapsed": false
   }
  },
  {
   "cell_type": "code",
   "execution_count": null,
   "outputs": [],
   "source": [],
   "metadata": {
    "collapsed": false
   }
  }
 ],
 "metadata": {
  "kernelspec": {
   "display_name": "Python 3",
   "language": "python",
   "name": "python3"
  },
  "language_info": {
   "codemirror_mode": {
    "name": "ipython",
    "version": 2
   },
   "file_extension": ".py",
   "mimetype": "text/x-python",
   "name": "python",
   "nbconvert_exporter": "python",
   "pygments_lexer": "ipython2",
   "version": "2.7.6"
  }
 },
 "nbformat": 4,
 "nbformat_minor": 0
}
