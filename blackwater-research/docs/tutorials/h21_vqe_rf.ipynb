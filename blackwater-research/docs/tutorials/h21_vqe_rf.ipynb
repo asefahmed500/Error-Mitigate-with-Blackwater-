{
 "cells": [
  {
   "cell_type": "code",
   "execution_count": 1,
   "metadata": {
    "collapsed": true
   },
   "outputs": [],
   "source": [
    "import os\n",
    "from pathlib import Path\n",
    "from tqdm import tqdm\n",
    "import pickle\n",
    "\n",
    "from qiskit import transpile\n",
    "from qiskit.circuit.random import random_circuit\n",
    "from qiskit.providers.fake_provider import FakeLimaV2\n",
    "from qiskit.quantum_info import SparsePauliOp\n",
    "from qiskit.primitives import BackendEstimator, Estimator\n",
    "\n",
    "from tqdm import tqdm\n",
    "\n",
    "from blackwater.data.utils import get_backend_properties_v1, encode_pauli_sum_op\n",
    "from blackwater.exception import BlackwaterException\n",
    "\n",
    "from qiskit import QuantumCircuit, transpile\n",
    "from qiskit.opflow import PauliSumOp\n",
    "from qiskit.primitives import BaseEstimator, EstimatorResult\n",
    "from qiskit.providers import JobV1 as Job, Options, BackendV2, Backend, BackendV1\n",
    "from qiskit.quantum_info import SparsePauliOp\n",
    "from qiskit.providers.fake_provider import FakeLimaV2, FakeLima, ConfigurableFakeBackend\n",
    "from qiskit.opflow import I, X, Z, Y\n",
    "from qiskit.algorithms.minimum_eigensolvers import VQE, VQEResult\n",
    "from qiskit.algorithms.optimizers import SLSQP, SPSA, COBYLA\n",
    "from qiskit.circuit.library import TwoLocal\n",
    "\n",
    "from blackwater.data.utils import generate_random_pauli_sum_op, get_backend_properties_v1\n",
    "from blackwater.library.learning.estimator import learning, EmptyProcessor, TorchLearningModelProcessor, ScikitLearningModelProcessor\n",
    "from qiskit_aer import AerSimulator, QasmSimulator\n",
    "import itertools\n",
    "import numpy as np\n",
    "from mbd_utils import cal_all_z_exp\n",
    "\n",
    "from mlp import encode_data, MLP1\n",
    "import torch\n",
    "from torch.utils.data import Dataset, DataLoader, TensorDataset\n",
    "from torch.optim.lr_scheduler import ReduceLROnPlateau\n",
    "import torch.nn as nn\n",
    "import random\n",
    "\n",
    "import matplotlib.pyplot as plt\n",
    "import seaborn as sns\n",
    "import pandas as pd\n",
    "\n",
    "from qiskit.quantum_info import Operator\n",
    "\n",
    "from qiskit.result import marginal_counts\n",
    "from qiskit import execute\n",
    "from qiskit_aer import QasmSimulator"
   ]
  },
  {
   "cell_type": "code",
   "execution_count": 2,
   "outputs": [],
   "source": [
    "qasm_sim = QasmSimulator()\n",
    "\n",
    "backend = FakeLima()\n",
    "properties = get_backend_properties_v1(backend)\n",
    "\n",
    "backend_ideal = QasmSimulator() # Noiseless\n",
    "backend_noisy = AerSimulator.from_backend(backend) # Noisy\n",
    "\n",
    "run_config_ideal = {'shots': 10000, 'backend': backend_ideal, 'name': 'ideal'}\n",
    "run_config_noisy = {'shots': 10000, 'backend': backend_noisy, 'name': 'noisy'}\n",
    "\n",
    "NUM_QUBITS = 2"
   ],
   "metadata": {
    "collapsed": false
   }
  },
  {
   "cell_type": "code",
   "execution_count": 3,
   "outputs": [],
   "source": [
    "def fix_random_seed(seed=0):\n",
    "    random.seed(seed)\n",
    "    os.environ['PYTHONHASHSEED'] = str(seed)\n",
    "    np.random.seed(seed)\n",
    "    torch.manual_seed(seed)\n",
    "    torch.cuda.manual_seed(seed)\n",
    "    torch.cuda.manual_seed_all(seed)  # if you are using multi-GPU.\n",
    "    torch.backends.cudnn.benchmark = False\n",
    "    torch.backends.cudnn.deterministic = True\n",
    "    print(f'random seed fixed to {seed}')"
   ],
   "metadata": {
    "collapsed": false
   }
  },
  {
   "cell_type": "code",
   "execution_count": 4,
   "outputs": [],
   "source": [
    "def get_all_z_exp_wo_shot_noise(circuit, marginal_over=None):\n",
    "    circuit_copy = circuit.copy()\n",
    "    circuit_copy.remove_final_measurements()\n",
    "    circuit_copy.save_density_matrix()\n",
    "\n",
    "    def int_to_bin(n, num_bits=4):\n",
    "        if n < 2 ** num_bits:\n",
    "            binary_str = bin(n)[2:]\n",
    "            return binary_str.zfill(num_bits)\n",
    "        else:\n",
    "            raise ValueError\n",
    "\n",
    "    circuit_copy = transpile(circuit_copy, backend=backend_noisy, optimization_level=3)\n",
    "    job = qasm_sim.run(circuit_copy)\n",
    "    # job = execute(circuit_copy, QasmSimulator(), backend_options={'method': 'statevector'})\n",
    "    probs = np.real(np.diag(job.result().results[0].data.density_matrix))\n",
    "    probs = {int_to_bin(i, num_bits=NUM_QUBITS): p for i, p in enumerate(probs)}\n",
    "\n",
    "    if marginal_over:\n",
    "        probs = marginal_counts(probs, indices=marginal_over)\n",
    "\n",
    "    exp_val = 0\n",
    "    for key, prob in probs.items():\n",
    "        num_ones = key.count('1')\n",
    "        exp_val += (-1) ** num_ones * prob\n",
    "\n",
    "    return exp_val"
   ],
   "metadata": {
    "collapsed": false
   }
  },
  {
   "cell_type": "code",
   "execution_count": 5,
   "outputs": [],
   "source": [
    "def load_circuits(data_dir, f_ext='.json', specific_file=None):\n",
    "    circuits = []\n",
    "    trans_circuits = []\n",
    "    ideal_exp_vals = []\n",
    "    noisy_exp_vals = []\n",
    "    meas_basis = []\n",
    "    data_files = [os.path.join(data_dir, f) for f in os.listdir(data_dir) if f.endswith(f_ext)] if specific_file is None else [specific_file]\n",
    "    for data_file in tqdm(data_files, leave=True):\n",
    "        if f_ext == '.json':\n",
    "            for entry in json.load(open(data_file, 'r')):\n",
    "                circuits.append(QuantumCircuit.from_qasm_str(entry['circuit']))\n",
    "                ideal_exp_vals.append(entry['ideal_exp_value'])\n",
    "                noisy_exp_vals.append(entry['noisy_exp_values'])\n",
    "        elif f_ext == '.pk':\n",
    "            for entry in pickle.load(open(data_file, 'rb')):\n",
    "                circuits.append(entry['circuit'])\n",
    "                trans_circuits.append(entry['trans_circuit'])\n",
    "                ideal_exp_vals.append(entry['ideal_exp_value'])\n",
    "                noisy_exp_vals.append(entry['noisy_exp_values'])\n",
    "                meas_basis.append(entry['meas_basis'])\n",
    "    return trans_circuits, ideal_exp_vals, noisy_exp_vals, meas_basis"
   ],
   "metadata": {
    "collapsed": false
   }
  },
  {
   "cell_type": "code",
   "execution_count": 6,
   "outputs": [
    {
     "name": "stderr",
     "output_type": "stream",
     "text": [
      "100%|██████████| 1/1 [00:02<00:00,  2.05s/it]"
     ]
    },
    {
     "name": "stdout",
     "output_type": "stream",
     "text": [
      "3000\n",
      "2999\n"
     ]
    },
    {
     "name": "stderr",
     "output_type": "stream",
     "text": [
      "\n"
     ]
    }
   ],
   "source": [
    "circuits, ideal_exp_vals, noisy_exp_vals, meas_bases = load_circuits('./data/vqe/', '.pk', specific_file='./data/vqe/two_local_2q_3reps_oplev0_rycz.pk')\n",
    "print(len(circuits))\n",
    "\n",
    "sep = 2999\n",
    "train_circuits, train_ideal_exp_vals, train_noisy_exp_vals, train_meas_bases = circuits[:sep], ideal_exp_vals[:sep], \\\n",
    "    noisy_exp_vals[:sep], meas_bases[:sep]\n",
    "test_circuits, test_ideal_exp_vals, test_noisy_exp_vals, test_meas_bases = circuits[sep:], ideal_exp_vals[sep:], \\\n",
    "    noisy_exp_vals[sep:], meas_bases[sep:]\n",
    "print(len(train_circuits))"
   ],
   "metadata": {
    "collapsed": false
   }
  },
  {
   "cell_type": "code",
   "execution_count": 7,
   "outputs": [
    {
     "data": {
      "text/plain": "[[0.2, 0, 0, 0, 1, 0, 0, 0, 1]]"
     },
     "execution_count": 7,
     "metadata": {},
     "output_type": "execute_result"
    }
   ],
   "source": [
    "encode_pauli_sum_op(0.2 * SparsePauliOp('XX'))"
   ],
   "metadata": {
    "collapsed": false
   }
  },
  {
   "cell_type": "code",
   "execution_count": 8,
   "outputs": [
    {
     "name": "stdout",
     "output_type": "stream",
     "text": [
      "64 64\n",
      "random seed fixed to 0\n",
      "OrderedDict([('rz', 36), ('sx', 22), ('cx', 3)])\n"
     ]
    }
   ],
   "source": [
    "train_observables = [encode_pauli_sum_op(SparsePauliOp(basis))[0] for basis in train_meas_bases]\n",
    "test_observables = [encode_pauli_sum_op(SparsePauliOp(basis))[0] for basis in test_meas_bases]\n",
    "X_train, y_train = encode_data(train_circuits, properties, train_ideal_exp_vals, train_noisy_exp_vals, num_qubits=1,\n",
    "                               meas_bases=train_observables)\n",
    "X_test, y_test = encode_data(test_circuits, properties, test_ideal_exp_vals, test_noisy_exp_vals, num_qubits=1,\n",
    "                             meas_bases=test_observables)\n",
    "\n",
    "print(len(X_test[0]), 54 + 1 + len(test_observables[0]))\n",
    "\n",
    "BATCH_SIZE = 32\n",
    "fix_random_seed(0)\n",
    "test_dataset = TensorDataset(torch.Tensor(X_test), torch.Tensor(y_test))\n",
    "test_loader = DataLoader(test_dataset, batch_size=BATCH_SIZE * 1000, shuffle=False)\n",
    "\n",
    "print(train_circuits[0].count_ops())"
   ],
   "metadata": {
    "collapsed": false
   }
  },
  {
   "cell_type": "code",
   "execution_count": 9,
   "outputs": [
    {
     "name": "stdout",
     "output_type": "stream",
     "text": [
      "OrderedDict([('rz', 36), ('sx', 22), ('cx', 3)])\n"
     ]
    }
   ],
   "source": [
    "print(train_circuits[0].count_ops())\n",
    "# train_circuits[0].decompose().draw('mpl', fold=-1, idle_wires=False)"
   ],
   "metadata": {
    "collapsed": false
   }
  },
  {
   "cell_type": "code",
   "execution_count": 10,
   "outputs": [
    {
     "name": "stderr",
     "output_type": "stream",
     "text": [
      "/var/folders/kj/mfqyg_tj77nf4gt67lvscdkw0000gn/T/ipykernel_99921/963820048.py:3: DataConversionWarning: A column-vector y was passed when a 1d array was expected. Please change the shape of y to (n_samples,), for example using ravel().\n",
      "  rfr.fit(X_train, y_train)\n"
     ]
    },
    {
     "data": {
      "text/plain": "RandomForestRegressor(n_estimators=300)",
      "text/html": "<style>#sk-container-id-1 {color: black;background-color: white;}#sk-container-id-1 pre{padding: 0;}#sk-container-id-1 div.sk-toggleable {background-color: white;}#sk-container-id-1 label.sk-toggleable__label {cursor: pointer;display: block;width: 100%;margin-bottom: 0;padding: 0.3em;box-sizing: border-box;text-align: center;}#sk-container-id-1 label.sk-toggleable__label-arrow:before {content: \"▸\";float: left;margin-right: 0.25em;color: #696969;}#sk-container-id-1 label.sk-toggleable__label-arrow:hover:before {color: black;}#sk-container-id-1 div.sk-estimator:hover label.sk-toggleable__label-arrow:before {color: black;}#sk-container-id-1 div.sk-toggleable__content {max-height: 0;max-width: 0;overflow: hidden;text-align: left;background-color: #f0f8ff;}#sk-container-id-1 div.sk-toggleable__content pre {margin: 0.2em;color: black;border-radius: 0.25em;background-color: #f0f8ff;}#sk-container-id-1 input.sk-toggleable__control:checked~div.sk-toggleable__content {max-height: 200px;max-width: 100%;overflow: auto;}#sk-container-id-1 input.sk-toggleable__control:checked~label.sk-toggleable__label-arrow:before {content: \"▾\";}#sk-container-id-1 div.sk-estimator input.sk-toggleable__control:checked~label.sk-toggleable__label {background-color: #d4ebff;}#sk-container-id-1 div.sk-label input.sk-toggleable__control:checked~label.sk-toggleable__label {background-color: #d4ebff;}#sk-container-id-1 input.sk-hidden--visually {border: 0;clip: rect(1px 1px 1px 1px);clip: rect(1px, 1px, 1px, 1px);height: 1px;margin: -1px;overflow: hidden;padding: 0;position: absolute;width: 1px;}#sk-container-id-1 div.sk-estimator {font-family: monospace;background-color: #f0f8ff;border: 1px dotted black;border-radius: 0.25em;box-sizing: border-box;margin-bottom: 0.5em;}#sk-container-id-1 div.sk-estimator:hover {background-color: #d4ebff;}#sk-container-id-1 div.sk-parallel-item::after {content: \"\";width: 100%;border-bottom: 1px solid gray;flex-grow: 1;}#sk-container-id-1 div.sk-label:hover label.sk-toggleable__label {background-color: #d4ebff;}#sk-container-id-1 div.sk-serial::before {content: \"\";position: absolute;border-left: 1px solid gray;box-sizing: border-box;top: 0;bottom: 0;left: 50%;z-index: 0;}#sk-container-id-1 div.sk-serial {display: flex;flex-direction: column;align-items: center;background-color: white;padding-right: 0.2em;padding-left: 0.2em;position: relative;}#sk-container-id-1 div.sk-item {position: relative;z-index: 1;}#sk-container-id-1 div.sk-parallel {display: flex;align-items: stretch;justify-content: center;background-color: white;position: relative;}#sk-container-id-1 div.sk-item::before, #sk-container-id-1 div.sk-parallel-item::before {content: \"\";position: absolute;border-left: 1px solid gray;box-sizing: border-box;top: 0;bottom: 0;left: 50%;z-index: -1;}#sk-container-id-1 div.sk-parallel-item {display: flex;flex-direction: column;z-index: 1;position: relative;background-color: white;}#sk-container-id-1 div.sk-parallel-item:first-child::after {align-self: flex-end;width: 50%;}#sk-container-id-1 div.sk-parallel-item:last-child::after {align-self: flex-start;width: 50%;}#sk-container-id-1 div.sk-parallel-item:only-child::after {width: 0;}#sk-container-id-1 div.sk-dashed-wrapped {border: 1px dashed gray;margin: 0 0.4em 0.5em 0.4em;box-sizing: border-box;padding-bottom: 0.4em;background-color: white;}#sk-container-id-1 div.sk-label label {font-family: monospace;font-weight: bold;display: inline-block;line-height: 1.2em;}#sk-container-id-1 div.sk-label-container {text-align: center;}#sk-container-id-1 div.sk-container {/* jupyter's `normalize.less` sets `[hidden] { display: none; }` but bootstrap.min.css set `[hidden] { display: none !important; }` so we also need the `!important` here to be able to override the default hidden behavior on the sphinx rendered scikit-learn.org. See: https://github.com/scikit-learn/scikit-learn/issues/21755 */display: inline-block !important;position: relative;}#sk-container-id-1 div.sk-text-repr-fallback {display: none;}</style><div id=\"sk-container-id-1\" class=\"sk-top-container\"><div class=\"sk-text-repr-fallback\"><pre>RandomForestRegressor(n_estimators=300)</pre><b>In a Jupyter environment, please rerun this cell to show the HTML representation or trust the notebook. <br />On GitHub, the HTML representation is unable to render, please try loading this page with nbviewer.org.</b></div><div class=\"sk-container\" hidden><div class=\"sk-item\"><div class=\"sk-estimator sk-toggleable\"><input class=\"sk-toggleable__control sk-hidden--visually\" id=\"sk-estimator-id-1\" type=\"checkbox\" checked><label for=\"sk-estimator-id-1\" class=\"sk-toggleable__label sk-toggleable__label-arrow\">RandomForestRegressor</label><div class=\"sk-toggleable__content\"><pre>RandomForestRegressor(n_estimators=300)</pre></div></div></div></div></div>"
     },
     "execution_count": 10,
     "metadata": {},
     "output_type": "execute_result"
    }
   ],
   "source": [
    "from sklearn.ensemble import RandomForestRegressor, GradientBoostingRegressor\n",
    "rfr = RandomForestRegressor(n_estimators=300)\n",
    "rfr.fit(X_train, y_train)"
   ],
   "metadata": {
    "collapsed": false
   }
  },
  {
   "cell_type": "code",
   "execution_count": 11,
   "outputs": [
    {
     "name": "stdout",
     "output_type": "stream",
     "text": [
      "random seed fixed to 0\n",
      "RMSE_noisy_0: 0.0020568668842315674\n",
      "RMSE_mitigated_0: 0.017757565627495475\n",
      "RMSE_noisy: 0.0020568668842315674\n",
      "RMSE_mitigated: 0.017757565627495475\n"
     ]
    },
    {
     "data": {
      "text/plain": "<Figure size 432x288 with 1 Axes>",
      "image/png": "[encoded data removed]"
     },
     "metadata": {
      "needs_background": "light"
     },
     "output_type": "display_data"
    }
   ],
   "source": [
    "fix_random_seed(0)\n",
    "\n",
    "distances = []\n",
    "\n",
    "num_spins = 1\n",
    "\n",
    "for batch_X, batch_y in test_loader:\n",
    "    out = rfr.predict(batch_X)\n",
    "\n",
    "    for ideal, noisy, ngm_mitigated in zip(\n",
    "        batch_y.tolist(),\n",
    "        batch_X[:, 54].tolist(),\n",
    "        out.tolist()\n",
    "    ):\n",
    "        for q in range(num_spins):\n",
    "            ideal_q = ideal[q]\n",
    "            noisy_q = noisy\n",
    "            ngm_mitigated_q = ngm_mitigated\n",
    "            distances.append({\n",
    "                \"num_train_samples\": sep,\n",
    "                f\"ideal_{q}\": ideal_q,\n",
    "                f\"noisy_{q}\": noisy_q,\n",
    "                f\"ngm_mitigated_{q}\": ngm_mitigated_q,\n",
    "                f\"dist_noisy_{q}\": np.abs(ideal_q - noisy_q),\n",
    "                f\"dist_mitigated_{q}\": np.abs(ideal_q - ngm_mitigated_q),\n",
    "                f\"dist_sq_noisy_{q}\": np.square(ideal_q - noisy_q),\n",
    "                f\"dist_sq_mitigated_{q}\": np.square(ideal_q - ngm_mitigated_q),\n",
    "            })\n",
    "\n",
    "plt.style.use({'figure.facecolor':'white'})\n",
    "\n",
    "df = pd.DataFrame(distances)\n",
    "\n",
    "for q in range(num_spins):\n",
    "    print(f'RMSE_noisy_{q}:', np.sqrt(df[f\"dist_sq_noisy_{q}\"].mean()))\n",
    "    print(f'RMSE_mitigated_{q}:', np.sqrt(df[f\"dist_sq_mitigated_{q}\"].mean()))\n",
    "\n",
    "print(f'RMSE_noisy:', np.sqrt(np.mean([df[f\"dist_sq_noisy_{q}\"].mean() for q in range(num_spins)])))\n",
    "print(f'RMSE_mitigated:', np.sqrt(np.mean([df[f\"dist_sq_mitigated_{q}\"].mean() for q in range(num_spins)])))\n",
    "\n",
    "sns.boxplot(data=df[[\"dist_noisy_0\", \"dist_mitigated_0\"]], orient=\"h\", showfliers = False)\n",
    "plt.title(\"Dist to ideal exp value\")\n",
    "plt.show()\n",
    "\n",
    "# sns.histplot([df['ideal_0'], df['noisy_0'], df[\"ngm_mitigated_0\"]], kde=True, bins=40)\n",
    "# plt.title(\"Exp values distribution\")\n",
    "# # plt.xlim([-0.2, 0.2])\n",
    "# plt.show()"
   ],
   "metadata": {
    "collapsed": false
   }
  },
  {
   "cell_type": "code",
   "execution_count": 12,
   "outputs": [],
   "source": [
    "# from qiskit.quantum_info import Operator\n",
    "# qc = QuantumCircuit(2)\n",
    "# qc.x(0)\n",
    "# qc.id(1)\n",
    "# Operator(qc)"
   ],
   "metadata": {
    "collapsed": false
   }
  },
  {
   "cell_type": "code",
   "execution_count": 13,
   "outputs": [],
   "source": [
    "# (I ^ X).to_matrix()"
   ],
   "metadata": {
    "collapsed": false
   }
  },
  {
   "cell_type": "code",
   "execution_count": 15,
   "outputs": [
    {
     "name": "stdout",
     "output_type": "stream",
     "text": [
      "8\n",
      "OrderedDict([('TwoLocal', 1)])\n"
     ]
    },
    {
     "data": {
      "text/plain": "<Figure size 507.852x144.48 with 1 Axes>",
      "image/png": "[encoded data removed]"
     },
     "execution_count": 15,
     "metadata": {},
     "output_type": "execute_result"
    }
   ],
   "source": [
    "np.random.seed(0)\n",
    "ansatz = TwoLocal(num_qubits=2, rotation_blocks=\"ry\", entanglement_blocks=\"cz\", reps=3)\n",
    "num_params = ansatz.num_parameters\n",
    "print(num_params)\n",
    "# ansatz = ansatz.bind_parameters(np.random.uniform(0, 1, ansatz.num_parameters)).decompose()\n",
    "print(ansatz.count_ops())\n",
    "ansatz.decompose().draw('mpl', fold=-1)"
   ],
   "metadata": {
    "collapsed": false
   }
  },
  {
   "cell_type": "code",
   "execution_count": 13,
   "outputs": [],
   "source": [
    "# np.random.seed(0)\n",
    "# ansatz = TwoLocal(num_qubits=4, rotation_blocks=\"ry\", entanglement_blocks=\"cz\")\n",
    "# ansatz = transpile(ansatz, backend_noisy, optimization_level=3)\n",
    "# num_params = ansatz.num_parameters\n",
    "# print(num_params)\n",
    "# ansatz = ansatz.bind_parameters(np.random.uniform(0, 1, ansatz.num_parameters))\n",
    "# print(ansatz.count_ops())\n",
    "# ansatz.draw('mpl')"
   ],
   "metadata": {
    "collapsed": false
   }
  },
  {
   "cell_type": "code",
   "execution_count": 16,
   "outputs": [
    {
     "name": "stdout",
     "output_type": "stream",
     "text": [
      "random seed fixed to 0\n"
     ]
    }
   ],
   "source": [
    "import warnings\n",
    "warnings.filterwarnings(\"ignore\")\n",
    "fix_random_seed(0)\n",
    "\n",
    "processor = ScikitLearningModelProcessor(\n",
    "    model=rfr,\n",
    "    backend=backend_noisy\n",
    ")"
   ],
   "metadata": {
    "collapsed": false
   }
  },
  {
   "cell_type": "code",
   "execution_count": 17,
   "outputs": [],
   "source": [
    "bond_operators = []\n",
    "\n",
    "with open(\"./h2-hamiltonian-qubit-params.txt\", \"r\") as f:\n",
    "    entries = f.read().split(\"\\n\\n\")\n",
    "    for entry in entries:\n",
    "        if entry:\n",
    "            length, fci, c1, c2, c3, c4, c5 = entry.strip().split(\"\\n\")\n",
    "            length = float(length.split(\" \")[0])\n",
    "            fci = float(fci.split(\" \")[-1])\n",
    "\n",
    "            c1, c2, c3, c4, c5 = [\n",
    "                float(x.split(\" \")[0]) for x in\n",
    "                [c1, c2, c3, c4, c5]\n",
    "            ]\n",
    "\n",
    "            operator_components_opflow = [I ^ I, X ^ X, Z ^ I, Z ^ Z, I ^ Z]\n",
    "            coefficient = [c1, c2, c3, c4, c5]\n",
    "            operator = np.dot(coefficient, operator_components_opflow)\n",
    "            operator = SparsePauliOp.from_operator(operator)\n",
    "\n",
    "            bond_operators.append((length, operator))"
   ],
   "metadata": {
    "collapsed": false
   }
  },
  {
   "cell_type": "code",
   "execution_count": 18,
   "outputs": [
    {
     "data": {
      "text/plain": "[(0.2,\n  SparsePauliOp(['II', 'IZ', 'XX', 'ZI', 'ZZ'],\n                coeffs=[2.0115282 +0.j, 0.93048853+0.j, 0.15797271+0.j, 0.93048853+0.j,\n   0.01362387+0.j])),\n (0.4,\n  SparsePauliOp(['II', 'IZ', 'XX', 'ZI', 'ZZ'],\n                coeffs=[0.46036349+0.j, 0.68881943+0.j, 0.16451542+0.j, 0.68881943+0.j,\n   0.01291397+0.j])),\n (0.5,\n  SparsePauliOp(['II', 'IZ', 'XX', 'ZI', 'ZZ'],\n                coeffs=[0.11064654+0.j, 0.58307963+0.j, 0.16887023+0.j, 0.58307963+0.j,\n   0.01251643+0.j])),\n (0.67,\n  SparsePauliOp(['II', 'IZ', 'XX', 'ZI', 'ZZ'],\n                coeffs=[-0.24514794+0.j,  0.44102801+0.j,  0.17738032+0.j,  0.44102801+0.j,\n    0.01168821+0.j])),\n (0.7,\n  SparsePauliOp(['II', 'IZ', 'XX', 'ZI', 'ZZ'],\n                coeffs=[-0.28794508+0.j,  0.42045568+0.j,  0.17900058+0.j,  0.42045568+0.j,\n    0.0115074 +0.j])),\n (0.72,\n  SparsePauliOp(['II', 'IZ', 'XX', 'ZI', 'ZZ'],\n                coeffs=[-0.31402572+0.j,  0.40739954+0.j,  0.18009857+0.j,  0.40739954+0.j,\n    0.01137972+0.j])),\n (0.73,\n  SparsePauliOp(['II', 'IZ', 'XX', 'ZI', 'ZZ'],\n                coeffs=[-0.32638631+0.j,  0.40106074+0.j,  0.18065279+0.j,  0.40106074+0.j,\n    0.01131368+0.j])),\n (0.74,\n  SparsePauliOp(['II', 'IZ', 'XX', 'ZI', 'ZZ'],\n                coeffs=[-0.33831674+0.j,  0.39484436+0.j,  0.18121046+0.j,  0.39484436+0.j,\n    0.01124616+0.j])),\n (1.0,\n  SparsePauliOp(['II', 'IZ', 'XX', 'ZI', 'ZZ'],\n                coeffs=[-0.54006628+0.j,  0.26752865+0.j,  0.19679058+0.j,  0.26752865+0.j,\n    0.00901493+0.j])),\n (1.2,\n  SparsePauliOp(['II', 'IZ', 'XX', 'ZI', 'ZZ'],\n                coeffs=[-0.61168972+0.j,  0.20018958+0.j,  0.20979147+0.j,  0.20018958+0.j,\n    0.00696216+0.j])),\n (1.4,\n  SparsePauliOp(['II', 'IZ', 'XX', 'ZI', 'ZZ'],\n                coeffs=[-0.64737531+0.j,  0.14956794+0.j,  0.22302209+0.j,  0.14956794+0.j,\n    0.00503054+0.j])),\n (1.6,\n  SparsePauliOp(['II', 'IZ', 'XX', 'ZI', 'ZZ'],\n                coeffs=[-0.66256274+0.j,  0.11130875+0.j,  0.23590129+0.j,  0.11130875+0.j,\n    0.00344779+0.j])),\n (1.8,\n  SparsePauliOp(['II', 'IZ', 'XX', 'ZI', 'ZZ'],\n                coeffs=[-0.66629324+0.j,  0.08240979+0.j,  0.24801699+0.j,  0.08240979+0.j,\n    0.00226467+0.j])),\n (2.0,\n  SparsePauliOp(['II', 'IZ', 'XX', 'ZI', 'ZZ'],\n                coeffs=[-0.66396774+0.j,  0.06062801+0.j,  0.25913847+0.j,  0.06062801+0.j,\n    0.0014311 +0.j])),\n (3.0,\n  SparsePauliOp(['II', 'IZ', 'XX', 'ZI', 'ZZ'],\n                coeffs=[-6.33651340e-01+0.j,  1.12352608e-02+0.j,  2.99211543e-01+0.j,\n    1.12352608e-02+0.j,  7.36102715e-05+0.j])),\n (4.0,\n  SparsePauliOp(['II', 'IZ', 'XX', 'ZI', 'ZZ'],\n                coeffs=[-6.12002832e-01+0.j,  1.43413915e-03+0.j,  3.21156858e-01+0.j,\n    1.43413915e-03+0.j,  1.13653883e-06+0.j]))]"
     },
     "execution_count": 18,
     "metadata": {},
     "output_type": "execute_result"
    }
   ],
   "source": [
    "bond_operators"
   ],
   "metadata": {
    "collapsed": false
   }
  },
  {
   "cell_type": "code",
   "execution_count": 19,
   "outputs": [
    {
     "name": "stdout",
     "output_type": "stream",
     "text": [
      "['XX', 'ZZ']\n",
      "SparsePauliOp(['XX', 'ZZ'],\n",
      "              coeffs=[0.7+0.j, 0.5+0.j])\n"
     ]
    }
   ],
   "source": [
    "str2opflow = {'I': I, 'X': X, 'Y': Y, 'Z': Z}\n",
    "\n",
    "coefficient = [0.7, 0.5] #[0.2, 0.4, 0.4]\n",
    "# coefficient /= np.sum(coefficient)\n",
    "operator_components = ['XX', 'ZZ']\n",
    "# num_ops_total, num_ops_from_train = 2, 2\n",
    "# coefficient = np.random.normal(0, 1, num_ops_total)\n",
    "# operator_components = np.random.choice(train_meas_bases, size=num_ops_from_train).tolist() + np.random.choice(test_meas_bases, size=num_ops_total-num_ops_from_train).tolist()\n",
    "print(operator_components)\n",
    "\n",
    "operator_components_opflow = []\n",
    "for op_component in operator_components:\n",
    "    op_f = 1\n",
    "    for op_str in list(op_component):\n",
    "        # op_f = str2opflow[op_str] ^ op_f\n",
    "        op_f = op_f ^ str2opflow[op_str]\n",
    "    operator_components_opflow.append(op_f)\n",
    "\n",
    "operator = np.dot(coefficient, operator_components_opflow)\n",
    "operator = SparsePauliOp.from_operator(operator)\n",
    "print(operator)\n",
    "bond_operators = [(-1, operator)]"
   ],
   "metadata": {
    "collapsed": false
   }
  },
  {
   "cell_type": "code",
   "execution_count": null,
   "outputs": [
    {
     "name": "stderr",
     "output_type": "stream",
     "text": [
      "Traceback (most recent call last):\n",
      "capi_return is NULL\n",
      "Call-back cb_calcfc_in__cobyla__user__routines failed.\n",
      "  File \"/opt/anaconda3/envs/ngem/lib/python3.10/site-packages/qiskit/algorithms/minimum_eigensolvers/vqe.py\", line 253, in evaluate_energy\n",
      "Fatal Python error: F2PySwapThreadLocalCallbackPtr: F2PySwapThreadLocalCallbackPtr: PyLong_AsVoidPtr failed\n",
      "Python runtime state: initialized\n",
      "    job = self.estimator.run(batch_size * [ansatz], batch_size * [operator], parameters)\n",
      "  File \"/opt/anaconda3/envs/ngem/lib/python3.10/site-packages/qiskit/primitives/base/base_estimator.py\", line 235, in run\n",
      "    return self._run(\n",
      "  File \"/Users/haoranliao/GitHub/blackwater/blackwater/library/learning/estimator.py\", line 225, in patched_run\n",
      "    jobs.append(run(\n",
      "NameError: name 'jobs' is not defined. Did you mean: 'Job'?\n",
      "\n",
      "The above exception was the direct cause of the following exception:\n",
      "\n",
      "Traceback (most recent call last):\n",
      "  File \"/opt/anaconda3/envs/ngem/lib/python3.10/site-packages/scipy/optimize/_cobyla_py.py\", line 258, in calcfc\n",
      "    f = fun(np.copy(x), *args)\n",
      "  File \"/opt/anaconda3/envs/ngem/lib/python3.10/site-packages/qiskit/algorithms/minimum_eigensolvers/vqe.py\", line 256, in evaluate_energy\n",
      "    raise AlgorithmError(\"The primitive job to evaluate the energy failed!\") from exc\n",
      "qiskit.algorithms.exceptions.AlgorithmError: 'The primitive job to evaluate the energy failed!'\n",
      "\n",
      "Extension modules: zmq.backend.cython.constants, zmq.backend.cython.error, zmq.backend.cython.message, zmq.backend.cython.context, zmq.backend.cython.socket, zmq.backend.cython.utils, zmq.backend.cython._poll, zmq.backend.cython._version, zmq.backend.cython._device, zmq.backend.cython._proxy_steerable, tornado.speedups, psutil._psutil_osx, psutil._psutil_posix, mkl._mklinit, mkl._py_mkl_service, numpy.core._multiarray_umath, numpy.core._multiarray_tests, numpy.linalg._umath_linalg, numpy.fft._pocketfft_internal, numpy.random._common, numpy.random.bit_generator, numpy.random._bounded_integers, numpy.random._mt19937, numpy.random.mtrand, numpy.random._philox, numpy.random._pcg64, numpy.random._sfc64, numpy.random._generator, matplotlib._c_internal_utils, PIL._imaging, matplotlib._path, kiwisolver._cext, pandas._libs.tslibs.np_datetime, pandas._libs.tslibs.dtypes, pandas._libs.tslibs.base, pandas._libs.tslibs.nattype, pandas._libs.tslibs.timezones, pandas._libs.tslibs.tzconversion, pandas._libs.tslibs.ccalendar, pandas._libs.tslibs.fields, pandas._libs.tslibs.timedeltas, pandas._libs.tslibs.timestamps, pandas._libs"
     ]
    }
   ],
   "source": [
    "bond_lengths = []\n",
    "mitigated = []\n",
    "noisy = []\n",
    "ideal = []\n",
    "diagonalization = []\n",
    "for bond_length, operator in bond_operators:\n",
    "##########################################################################################\n",
    "    # fix_random_seed(0)\n",
    "    def callback_func(lst, values, params):\n",
    "        print(f'Values: {values}', f'Params: {params}')\n",
    "        lst.append(values)\n",
    "    optimizer = COBYLA(maxiter=100)\n",
    "    ansatz = TwoLocal(num_qubits=NUM_QUBITS, rotation_blocks=\"ry\", entanglement_blocks=\"cz\", reps=3)\n",
    "    init_pt = np.random.uniform(-5, 5, ansatz.num_parameters)\n",
    "\n",
    "    learning_estimator = learning(BackendEstimator, processor=processor, backend=FakeLima(), skip_transpile=True)\n",
    "    estimator_mitigated = learning_estimator(backend=FakeLima())\n",
    "    history_mitigated = []\n",
    "    vqe = VQE(estimator=estimator_mitigated, ansatz=ansatz, optimizer=optimizer, initial_point=init_pt,\n",
    "              callback=lambda a, params, values, d: callback_func(history_mitigated, values, params))\n",
    "    result_mitigated = vqe.compute_minimum_eigenvalue(operator)\n",
    "\n",
    "    ##########################################################################################\n",
    "    # fix_random_seed(0)\n",
    "    estimator_ideal = Estimator()\n",
    "    history_ideal = []\n",
    "    vqe = VQE(estimator=estimator_ideal, ansatz=ansatz, optimizer=optimizer, initial_point=init_pt,\n",
    "              callback=lambda a, params, values, d: callback_func(history_ideal, values, params))\n",
    "    result_ideal = vqe.compute_minimum_eigenvalue(operator)\n",
    "\n",
    "    ##########################################################################################\n",
    "    # fix_random_seed(0)\n",
    "    estimator_noisy = BackendEstimator(backend=FakeLima())\n",
    "    history_noisy = []\n",
    "    vqe = VQE(estimator=estimator_noisy, ansatz=ansatz, optimizer=optimizer, initial_point=init_pt,\n",
    "              callback=lambda a, params, values, d: callback_func(history_noisy, values, params))\n",
    "    result_noisy = vqe.compute_minimum_eigenvalue(operator)\n",
    "\n",
    "##########################################################################################\n",
    "    print('#' * 50)\n",
    "    print(\"Noisy\", result_noisy.optimal_value)\n",
    "    print(\"Mitigated\", result_mitigated.optimal_value)\n",
    "    print(\"Ideal\", result_ideal.optimal_value)\n",
    "    print(\"Diagonalization\", min(np.real_if_close(np.linalg.eig(Operator(operator))[0])))\n",
    "\n",
    "    bond_lengths.append(bond_length)\n",
    "    noisy.append(result_noisy.optimal_value)\n",
    "    mitigated.append(result_mitigated.optimal_value)\n",
    "    ideal.append(result_ideal.optimal_value)\n",
    "    diagonalization.append(min(np.real_if_close(np.linalg.eig(Operator(operator))[0])))"
   ],
   "metadata": {
    "collapsed": false
   }
  },
  {
   "cell_type": "code",
   "execution_count": null,
   "outputs": [],
   "source": [
    "plt.plot(bond_lengths, ideal, label='ideal')\n",
    "plt.plot(bond_lengths, mitigated, label='mitigated')\n",
    "plt.plot(bond_lengths, noisy, label='noisy')\n",
    "plt.legend()\n",
    "plt.show()"
   ],
   "metadata": {
    "collapsed": false
   }
  },
  {
   "cell_type": "code",
   "execution_count": 56,
   "outputs": [
    {
     "data": {
      "text/plain": "-1.1083550975747303"
     },
     "execution_count": 56,
     "metadata": {},
     "output_type": "execute_result"
    }
   ],
   "source": [
    "-0.9709190654754638 / 0.876"
   ],
   "metadata": {
    "collapsed": false
   }
  },
  {
   "cell_type": "code",
   "execution_count": 24,
   "outputs": [
    {
     "data": {
      "text/plain": "1.0875"
     },
     "execution_count": 24,
     "metadata": {},
     "output_type": "execute_result"
    }
   ],
   "source": [
    "0.87 / 0.8"
   ],
   "metadata": {
    "collapsed": false
   }
  },
  {
   "cell_type": "code",
   "execution_count": 51,
   "outputs": [
    {
     "data": {
      "text/plain": "0.019600000000000003"
     },
     "execution_count": 51,
     "metadata": {},
     "output_type": "execute_result"
    }
   ],
   "source": [
    "0.1*0.1*0.98+0.1*0.1*0.98"
   ],
   "metadata": {
    "collapsed": false
   }
  },
  {
   "cell_type": "code",
   "execution_count": 2,
   "outputs": [],
   "source": [
    "from qiskit.quantum_info import Pauli, SparsePauliOp\n",
    "def sparse_pauli_to_string(sparse_pauli_op: SparsePauliOp) -> str:\n",
    "    pauli_strings = []\n",
    "    for coeff, pauli in zip(sparse_pauli_op.coeffs, sparse_pauli_op.table):\n",
    "        # Convert the SparsePauliOp table (which is a PauliTable object) to a Pauli object\n",
    "        pauli_op = Pauli((pauli.z, pauli.x))\n",
    "        # Now convert the Pauli object to a string\n",
    "        pauli_string = str(pauli_op)\n",
    "        # If the coefficient is not 1, add it to the string\n",
    "        if coeff != 1:\n",
    "            pauli_string = f\"{coeff}*{pauli_string}\"\n",
    "        pauli_strings.append(pauli_string)\n",
    "    return ''.join(pauli_strings)"
   ],
   "metadata": {
    "collapsed": false
   }
  },
  {
   "cell_type": "code",
   "execution_count": null,
   "outputs": [],
   "source": [],
   "metadata": {
    "collapsed": false
   }
  }
 ],
 "metadata": {
  "kernelspec": {
   "display_name": "Python 3",
   "language": "python",
   "name": "python3"
  },
  "language_info": {
   "codemirror_mode": {
    "name": "ipython",
    "version": 2
   },
   "file_extension": ".py",
   "mimetype": "text/x-python",
   "name": "python",
   "nbconvert_exporter": "python",
   "pygments_lexer": "ipython2",
   "version": "2.7.6"
  }
 },
 "nbformat": 4,
 "nbformat_minor": 0
}
