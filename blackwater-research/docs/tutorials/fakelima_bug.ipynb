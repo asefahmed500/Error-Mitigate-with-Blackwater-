{
 "cells": [
  {
   "cell_type": "code",
   "execution_count": 1,
   "metadata": {
    "collapsed": true
   },
   "outputs": [],
   "source": [
    "from qiskit.providers.fake_provider import FakeMontreal, FakeLima"
   ]
  },
  {
   "cell_type": "code",
   "execution_count": 2,
   "outputs": [
    {
     "name": "stdout",
     "output_type": "stream",
     "text": [
      "['sx', 'reset', 'cx', 'id', 'rz', 'x']\n"
     ]
    }
   ],
   "source": [
    "backend = FakeLima()\n",
    "print(list({g.gate for g in backend.properties().gates}))"
   ],
   "metadata": {
    "collapsed": false
   }
  },
  {
   "cell_type": "code",
   "execution_count": 2,
   "outputs": [
    {
     "name": "stdout",
     "output_type": "stream",
     "text": [
      "['cx', 'rz', 'sx', 'reset', 'id', 'x']\n"
     ]
    }
   ],
   "source": [
    "# restart the kernel, or just rerun a python script, the output is not sorted\n",
    "backend = FakeLima()\n",
    "print(list({g.gate for g in backend.properties().gates}))"
   ],
   "metadata": {
    "collapsed": false
   }
  },
  {
   "cell_type": "code",
   "execution_count": null,
   "outputs": [],
   "source": [],
   "metadata": {
    "collapsed": false
   }
  }
 ],
 "metadata": {
  "kernelspec": {
   "display_name": "Python 3",
   "language": "python",
   "name": "python3"
  },
  "language_info": {
   "codemirror_mode": {
    "name": "ipython",
    "version": 2
   },
   "file_extension": ".py",
   "mimetype": "text/x-python",
   "name": "python",
   "nbconvert_exporter": "python",
   "pygments_lexer": "ipython2",
   "version": "2.7.6"
  }
 },
 "nbformat": 4,
 "nbformat_minor": 0
}
