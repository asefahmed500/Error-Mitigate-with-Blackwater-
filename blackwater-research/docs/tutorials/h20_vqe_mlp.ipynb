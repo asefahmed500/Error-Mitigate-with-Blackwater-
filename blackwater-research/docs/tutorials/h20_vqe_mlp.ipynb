{
 "cells": [
  {
   "cell_type": "code",
   "execution_count": 1,
   "metadata": {
    "collapsed": true
   },
   "outputs": [
    {
     "ename": "ModuleNotFoundError",
     "evalue": "No module named 'blackwater.library.temp'",
     "output_type": "error",
     "traceback": [
      "\u001B[0;31m---------------------------------------------------------------------------\u001B[0m",
      "\u001B[0;31mModuleNotFoundError\u001B[0m                       Traceback (most recent call last)",
      "Input \u001B[0;32mIn [1]\u001B[0m, in \u001B[0;36m<cell line: 29>\u001B[0;34m()\u001B[0m\n\u001B[1;32m     26\u001B[0m \u001B[38;5;28;01mfrom\u001B[39;00m \u001B[38;5;21;01mqiskit\u001B[39;00m\u001B[38;5;21;01m.\u001B[39;00m\u001B[38;5;21;01mcircuit\u001B[39;00m\u001B[38;5;21;01m.\u001B[39;00m\u001B[38;5;21;01mlibrary\u001B[39;00m \u001B[38;5;28;01mimport\u001B[39;00m TwoLocal\n\u001B[1;32m     28\u001B[0m \u001B[38;5;28;01mfrom\u001B[39;00m \u001B[38;5;21;01mblackwater\u001B[39;00m\u001B[38;5;21;01m.\u001B[39;00m\u001B[38;5;21;01mdata\u001B[39;00m\u001B[38;5;21;01m.\u001B[39;00m\u001B[38;5;21;01mutils\u001B[39;00m \u001B[38;5;28;01mimport\u001B[39;00m generate_random_pauli_sum_op, get_backend_properties_v1\n\u001B[0;32m---> 29\u001B[0m \u001B[38;5;28;01mfrom\u001B[39;00m \u001B[38;5;21;01mblackwater\u001B[39;00m\u001B[38;5;21;01m.\u001B[39;00m\u001B[38;5;21;01mlibrary\u001B[39;00m\u001B[38;5;21;01m.\u001B[39;00m\u001B[38;5;21;01mlearning\u001B[39;00m\u001B[38;5;21;01m.\u001B[39;00m\u001B[38;5;21;01mestimator\u001B[39;00m \u001B[38;5;28;01mimport\u001B[39;00m learning, EmptyProcessor, TorchLearningModelProcessor\n\u001B[1;32m     30\u001B[0m \u001B[38;5;28;01mfrom\u001B[39;00m \u001B[38;5;21;01mqiskit_aer\u001B[39;00m \u001B[38;5;28;01mimport\u001B[39;00m AerSimulator\n\u001B[1;32m     31\u001B[0m \u001B[38;5;28;01mimport\u001B[39;00m \u001B[38;5;21;01mitertools\u001B[39;00m\n",
      "File \u001B[0;32m~/GitHub/blackwater/blackwater/library/learning/estimator.py:16\u001B[0m, in \u001B[0;36m<module>\u001B[0;34m\u001B[0m\n\u001B[1;32m     14\u001B[0m \u001B[38;5;28;01mfrom\u001B[39;00m \u001B[38;5;21;01mblackwater\u001B[39;00m\u001B[38;5;21;01m.\u001B[39;00m\u001B[38;5;21;01mdata\u001B[39;00m\u001B[38;5;21;01m.\u001B[39;00m\u001B[38;5;21;01mutils\u001B[39;00m \u001B[38;5;28;01mimport\u001B[39;00m get_backend_properties_v1, encode_pauli_sum_op\n\u001B[1;32m     15\u001B[0m \u001B[38;5;28;01mfrom\u001B[39;00m \u001B[38;5;21;01mblackwater\u001B[39;00m\u001B[38;5;21;01m.\u001B[39;00m\u001B[38;5;21;01mexception\u001B[39;00m \u001B[38;5;28;01mimport\u001B[39;00m BlackwaterException\n\u001B[0;32m---> 16\u001B[0m \u001B[38;5;28;01mfrom\u001B[39;00m \u001B[38;5;21;01mblackwater\u001B[39;00m\u001B[38;5;21;01m.\u001B[39;00m\u001B[38;5;21;01mlibrary\u001B[39;00m\u001B[38;5;21;01m.\u001B[39;00m\u001B[38;5;21;01mtemp\u001B[39;00m \u001B[38;5;28;01mimport\u001B[39;00m encode_data\n\u001B[1;32m     19\u001B[0m \u001B[38;5;28;01mclass\u001B[39;00m \u001B[38;5;21;01mLearningMethodEstimatorProcessor\u001B[39;00m:\n\u001B[1;32m     20\u001B[0m     \u001B[38;5;28;01mdef\u001B[39;00m \u001B[38;5;21mprocess\u001B[39m(\n\u001B[1;32m     21\u001B[0m             \u001B[38;5;28mself\u001B[39m,\n\u001B[1;32m     22\u001B[0m             expectation_value: np\u001B[38;5;241m.\u001B[39mndarray[Any, np\u001B[38;5;241m.\u001B[39mdtype[np\u001B[38;5;241m.\u001B[39mfloat64]],\n\u001B[0;32m   (...)\u001B[0m\n\u001B[1;32m     25\u001B[0m             parameter_values: Tuple[Tuple[\u001B[38;5;28mfloat\u001B[39m, \u001B[38;5;241m.\u001B[39m\u001B[38;5;241m.\u001B[39m\u001B[38;5;241m.\u001B[39m], \u001B[38;5;241m.\u001B[39m\u001B[38;5;241m.\u001B[39m\u001B[38;5;241m.\u001B[39m],\n\u001B[1;32m     26\u001B[0m     ) \u001B[38;5;241m-\u001B[39m\u001B[38;5;241m>\u001B[39m np\u001B[38;5;241m.\u001B[39mndarray[Any, np\u001B[38;5;241m.\u001B[39mdtype[np\u001B[38;5;241m.\u001B[39mfloat64]]:\n",
      "\u001B[0;31mModuleNotFoundError\u001B[0m: No module named 'blackwater.library.temp'"
     ]
    }
   ],
   "source": [
    "import os\n",
    "from pathlib import Path\n",
    "from tqdm import tqdm\n",
    "import pickle\n",
    "\n",
    "from qiskit import transpile\n",
    "from qiskit.circuit.random import random_circuit\n",
    "from qiskit.providers.fake_provider import FakeLimaV2\n",
    "from qiskit.quantum_info import SparsePauliOp\n",
    "from qiskit.primitives import BackendEstimator, Estimator\n",
    "\n",
    "from tqdm.notebook import tqdm_notebook\n",
    "\n",
    "from blackwater.data.utils import get_backend_properties_v1, encode_pauli_sum_op\n",
    "from blackwater.exception import BlackwaterException\n",
    "\n",
    "from qiskit import QuantumCircuit, transpile\n",
    "from qiskit.opflow import PauliSumOp\n",
    "from qiskit.primitives import BaseEstimator, EstimatorResult\n",
    "from qiskit.providers import JobV1 as Job, Options, BackendV2, Backend, BackendV1\n",
    "from qiskit.quantum_info import SparsePauliOp\n",
    "from qiskit.providers.fake_provider import FakeLimaV2, FakeLima, ConfigurableFakeBackend\n",
    "from qiskit.opflow import I, X, Z, Y\n",
    "from qiskit.algorithms.minimum_eigensolvers import VQE, VQEResult\n",
    "from qiskit.algorithms.optimizers import SLSQP\n",
    "from qiskit.circuit.library import TwoLocal\n",
    "\n",
    "from blackwater.data.utils import generate_random_pauli_sum_op, get_backend_properties_v1\n",
    "from blackwater.library.learning.estimator import learning, EmptyProcessor, TorchLearningModelProcessor\n",
    "from qiskit_aer import AerSimulator\n",
    "import itertools\n",
    "import numpy as np\n",
    "from mbd_utils import cal_all_z_exp\n",
    "\n",
    "from mlp import encode_data, MLP1\n",
    "import torch\n",
    "from torch.utils.data import Dataset, DataLoader, TensorDataset\n",
    "from torch.optim.lr_scheduler import ReduceLROnPlateau\n",
    "import torch.nn as nn\n",
    "import random"
   ]
  },
  {
   "cell_type": "code",
   "execution_count": null,
   "outputs": [],
   "source": [
    "backend = FakeLima()\n",
    "properties = get_backend_properties_v1(backend)\n",
    "\n",
    "backend_noisy = AerSimulator.from_backend(backend) # Noisy\n",
    "run_config_noisy = {'shots': 10000, 'backend': backend_noisy, 'name': 'noisy'}"
   ],
   "metadata": {
    "collapsed": false
   }
  },
  {
   "cell_type": "code",
   "execution_count": null,
   "outputs": [],
   "source": [
    "def fix_random_seed(seed=0):\n",
    "    random.seed(seed)\n",
    "    os.environ['PYTHONHASHSEED'] = str(seed)\n",
    "    np.random.seed(seed)\n",
    "    torch.manual_seed(seed)\n",
    "    torch.cuda.manual_seed(seed)\n",
    "    torch.cuda.manual_seed_all(seed)  # if you are using multi-GPU.\n",
    "    torch.backends.cudnn.benchmark = False\n",
    "    torch.backends.cudnn.deterministic = True\n",
    "    print(f'random seed fixed to {seed}')"
   ],
   "metadata": {
    "collapsed": false
   }
  },
  {
   "cell_type": "code",
   "execution_count": null,
   "outputs": [],
   "source": [
    "ansatz = TwoLocal(num_qubits=4, rotation_blocks='rx', entanglement_blocks='cx', reps=3)\n",
    "ansatz.decompose().draw('mpl')"
   ],
   "metadata": {
    "collapsed": false
   }
  },
  {
   "cell_type": "code",
   "execution_count": null,
   "outputs": [],
   "source": [
    "from qiskit.result import marginal_counts\n",
    "from qiskit import execute\n",
    "from qiskit_aer import QasmSimulator\n",
    "\n",
    "qasm_sim = QasmSimulator()\n",
    "\n",
    "def get_all_z_exp_wo_shot_noise(circuit, marginal_over=None):\n",
    "    circuit_copy = circuit.copy()\n",
    "    circuit_copy.remove_final_measurements()\n",
    "    circuit_copy.save_density_matrix()\n",
    "\n",
    "    def int_to_bin(n, num_bits=4):\n",
    "        if n < 2**num_bits:\n",
    "            binary_str = bin(n)[2:]\n",
    "            return binary_str.zfill(num_bits)\n",
    "        else:\n",
    "            raise ValueError\n",
    "\n",
    "    # print(circuit_copy.draw())\n",
    "    circuit_copy = transpile(circuit_copy, backend=backend_noisy, optimization_level=3)\n",
    "    job = qasm_sim.run(circuit_copy)\n",
    "    # job = execute(circuit_copy, QasmSimulator(), backend_options={'method': 'statevector'})\n",
    "    probs = np.real(np.diag(job.result().results[0].data.density_matrix))\n",
    "    probs = {int_to_bin(i, num_bits=4): p for i, p in enumerate(probs)}\n",
    "\n",
    "    if marginal_over:\n",
    "        probs = marginal_counts(probs, indices=marginal_over)\n",
    "\n",
    "    exp_val = 0\n",
    "    for key, prob in probs.items():\n",
    "        num_ones = key.count('1')\n",
    "        exp_val += (-1) ** num_ones * prob\n",
    "\n",
    "    return exp_val"
   ],
   "metadata": {
    "collapsed": false
   }
  },
  {
   "cell_type": "code",
   "execution_count": 3,
   "outputs": [],
   "source": [
    "def load_circuits(data_dir, f_ext='.json'):\n",
    "    circuits = []\n",
    "    ideal_exp_vals = []\n",
    "    noisy_exp_vals = []\n",
    "    meas_basis = []\n",
    "    data_files = [os.path.join(data_dir, f) for f in os.listdir(data_dir) if f.endswith(f_ext)]\n",
    "    for data_file in tqdm(data_files, leave=True):\n",
    "        if f_ext == '.json':\n",
    "            for entry in json.load(open(data_file, 'r')):\n",
    "                circuits.append(QuantumCircuit.from_qasm_str(entry['circuit']))\n",
    "                ideal_exp_vals.append(entry['ideal_exp_value'])\n",
    "                noisy_exp_vals.append(entry['noisy_exp_values'])\n",
    "        elif f_ext == '.pk':\n",
    "            for entry in pickle.load(open(data_file, 'rb')):\n",
    "                circuits.append(entry['circuit'])\n",
    "                ideal_exp_vals.append(entry['ideal_exp_value'])\n",
    "                noisy_exp_vals.append(entry['noisy_exp_values'])\n",
    "                meas_basis.append(entry['meas_basis'])\n",
    "    return circuits, ideal_exp_vals, noisy_exp_vals, meas_basis"
   ],
   "metadata": {
    "collapsed": false
   }
  },
  {
   "cell_type": "code",
   "execution_count": 4,
   "outputs": [
    {
     "name": "stderr",
     "output_type": "stream",
     "text": [
      "100%|██████████| 1/1 [00:00<00:00,  3.46it/s]"
     ]
    },
    {
     "name": "stdout",
     "output_type": "stream",
     "text": [
      "128\n"
     ]
    },
    {
     "name": "stderr",
     "output_type": "stream",
     "text": [
      "\n"
     ]
    }
   ],
   "source": [
    "circuits, ideal_exp_vals, noisy_exp_vals, meas_bases = load_circuits('./data/vqe/', '.pk')\n",
    "print(len(circuits))"
   ],
   "metadata": {
    "collapsed": false
   }
  },
  {
   "cell_type": "code",
   "execution_count": 59,
   "outputs": [],
   "source": [
    "sep = 50\n",
    "train_circuits, train_ideal_exp_vals, train_noisy_exp_vals, train_meas_bases = circuits[:sep], ideal_exp_vals[:sep], noisy_exp_vals[:sep], meas_bases[:sep]\n",
    "test_circuits, test_ideal_exp_vals, test_noisy_exp_vals, test_meas_bases = circuits[sep:], ideal_exp_vals[sep:], noisy_exp_vals[sep:], meas_bases[sep:]\n",
    "\n",
    "# train_noisy_exp_vals = [x[0] for x in train_noisy_exp_vals]\n",
    "# test_noisy_exp_vals = [x[0] for x in test_noisy_exp_vals]\n",
    "train_observables = [encode_pauli_sum_op(SparsePauliOp(basis))[0] for basis in train_meas_bases]\n",
    "test_observables = [encode_pauli_sum_op(SparsePauliOp(basis))[0] for basis in test_meas_bases]\n",
    "X_train, y_train = encode_data(train_circuits, properties, train_ideal_exp_vals, train_noisy_exp_vals, num_qubits=1, meas_bases=train_observables)\n",
    "X_test, y_test = encode_data(test_circuits, properties, test_ideal_exp_vals, test_noisy_exp_vals, num_qubits=1, meas_bases=test_observables)"
   ],
   "metadata": {
    "collapsed": false
   }
  },
  {
   "cell_type": "code",
   "execution_count": 60,
   "outputs": [
    {
     "name": "stdout",
     "output_type": "stream",
     "text": [
      "random seed fixed to 0\n"
     ]
    }
   ],
   "source": [
    "BATCH_SIZE = 32\n",
    "fix_random_seed(0)\n",
    "train_dataset = TensorDataset(torch.Tensor(X_train), torch.Tensor(y_train))\n",
    "train_loader = DataLoader(train_dataset, batch_size=BATCH_SIZE, shuffle=True)\n",
    "test_dataset = TensorDataset(torch.Tensor(X_test), torch.Tensor(y_test))\n",
    "test_loader = DataLoader(test_dataset, batch_size=BATCH_SIZE*1000, shuffle=False)"
   ],
   "metadata": {
    "collapsed": false
   }
  },
  {
   "cell_type": "code",
   "execution_count": 62,
   "outputs": [
    {
     "name": "stdout",
     "output_type": "stream",
     "text": [
      "random seed fixed to 0\n"
     ]
    }
   ],
   "source": [
    "fix_random_seed(0)\n",
    "model = MLP1(\n",
    "    input_size=68,\n",
    "    output_size=1,\n",
    "    hidden_size=64\n",
    ")\n",
    "\n",
    "criterion = nn.MSELoss()\n",
    "optimizer = torch.optim.Adam(model.parameters(), lr=0.001)\n",
    "scheduler = ReduceLROnPlateau(optimizer,\n",
    "                            'min',\n",
    "                              factor=0.1,\n",
    "                              patience=15,\n",
    "                              verbose=True,\n",
    "                              min_lr=0.00001)"
   ],
   "metadata": {
    "collapsed": false
   }
  },
  {
   "cell_type": "code",
   "execution_count": 63,
   "outputs": [
    {
     "name": "stdout",
     "output_type": "stream",
     "text": [
      "random seed fixed to 0\n"
     ]
    },
    {
     "name": "stderr",
     "output_type": "stream",
     "text": [
      "0.00122, 0.00041:  88%|████████▊ | 44/50 [00:07<00:01,  5.78it/s]"
     ]
    },
    {
     "name": "stdout",
     "output_type": "stream",
     "text": [
      "Epoch 00043: reducing learning rate of group 0 to 1.0000e-04.\n"
     ]
    },
    {
     "name": "stderr",
     "output_type": "stream",
     "text": [
      "0.0012, 0.00042: 100%|██████████| 50/50 [00:08<00:00,  5.62it/s] \n"
     ]
    }
   ],
   "source": [
    "fix_random_seed(0)\n",
    "\n",
    "train_losses = []\n",
    "test_losses = []\n",
    "\n",
    "N_EPOCHS = 50\n",
    "\n",
    "progress = tqdm(range(N_EPOCHS), desc='Model training', leave=True)\n",
    "for epoch in progress:\n",
    "    train_loss = 0.0\n",
    "    model.train()\n",
    "    for batch_X, batch_y in train_loader:\n",
    "        optimizer.zero_grad()\n",
    "        outputs = model(batch_X).squeeze()\n",
    "        loss = criterion(outputs, batch_y)\n",
    "        loss.backward()\n",
    "        optimizer.step()\n",
    "\n",
    "        train_loss += loss.item()\n",
    "\n",
    "    test_loss = 0.0\n",
    "    model.eval()\n",
    "    for batch_X, batch_y in test_loader:\n",
    "        outputs = model(batch_X).squeeze()\n",
    "        loss = criterion(outputs, batch_y)\n",
    "        test_loss += loss.item()\n",
    "\n",
    "    scheduler.step(test_loss)\n",
    "\n",
    "    if epoch >= 1:\n",
    "        train_losses.append(train_loss / len(train_loader))\n",
    "        test_losses.append(test_loss / len(test_loader))\n",
    "\n",
    "        progress.set_description(f\"{round(train_losses[-1], 5)}, {round(test_losses[-1], 5)}\")\n",
    "        progress.refresh()"
   ],
   "metadata": {
    "collapsed": false
   }
  },
  {
   "cell_type": "code",
   "execution_count": 64,
   "outputs": [],
   "source": [
    "# sep = 20 * 64\n",
    "# train_circuits, train_ideal_exp_vals, train_noisy_exp_vals, train_meas_bases = circuits[:sep], ideal_exp_vals[:sep], noisy_exp_vals[:sep], meas_bases[:sep]\n",
    "#\n",
    "# print(len(train_circuits))\n",
    "#\n",
    "# train_observables = [encode_pauli_sum_op(SparsePauliOp(basis))[0] for basis in train_meas_bases]\n",
    "# train_noisy_exp_vals_copy = [x[0][0] for x in train_noisy_exp_vals]\n",
    "# X_train, y_train = encode_data(train_circuits, properties, train_ideal_exp_vals, train_noisy_exp_vals_copy, num_qubits=1, meas_bases=train_observables)\n",
    "#\n",
    "# BATCH_SIZE = 32\n",
    "# fix_random_seed(0)\n",
    "# test_dataset = TensorDataset(torch.Tensor(X_test), torch.Tensor(y_test))\n",
    "# test_loader = DataLoader(test_dataset, batch_size=BATCH_SIZE*1000, shuffle=False)"
   ],
   "metadata": {
    "collapsed": false
   }
  },
  {
   "cell_type": "code",
   "execution_count": 65,
   "outputs": [],
   "source": [
    "# from sklearn.ensemble import RandomForestRegressor, GradientBoostingRegressor\n",
    "# rfr_tree_list = []\n",
    "# rfr = RandomForestRegressor(n_estimators=100)\n",
    "# rfr.fit(X_train, y_train)\n",
    "# rfr_tree_list.append(rfr)"
   ],
   "metadata": {
    "collapsed": false
   }
  },
  {
   "cell_type": "code",
   "execution_count": 66,
   "outputs": [
    {
     "data": {
      "text/plain": "Operator([[0.+0.j, 1.+0.j, 0.+0.j, 0.+0.j],\n          [1.+0.j, 0.+0.j, 0.+0.j, 0.+0.j],\n          [0.+0.j, 0.+0.j, 0.+0.j, 1.+0.j],\n          [0.+0.j, 0.+0.j, 1.+0.j, 0.+0.j]],\n         input_dims=(2, 2), output_dims=(2, 2))"
     },
     "execution_count": 66,
     "metadata": {},
     "output_type": "execute_result"
    }
   ],
   "source": [
    "from qiskit.quantum_info import Operator\n",
    "qc = QuantumCircuit(2)\n",
    "qc.x(0)\n",
    "qc.id(1)\n",
    "\n",
    "Operator(qc)\n",
    "# XI"
   ],
   "metadata": {
    "collapsed": false
   }
  },
  {
   "cell_type": "code",
   "execution_count": 67,
   "outputs": [
    {
     "data": {
      "text/plain": "PauliOp(Pauli('IX'), coeff=1.0)"
     },
     "execution_count": 67,
     "metadata": {},
     "output_type": "execute_result"
    }
   ],
   "source": [
    "I ^X"
   ],
   "metadata": {
    "collapsed": false
   }
  },
  {
   "cell_type": "code",
   "execution_count": 68,
   "outputs": [
    {
     "data": {
      "text/plain": "array([[0.+0.j, 1.+0.j, 0.+0.j, 0.+0.j],\n       [1.+0.j, 0.+0.j, 0.+0.j, 0.+0.j],\n       [0.+0.j, 0.+0.j, 0.+0.j, 1.+0.j],\n       [0.+0.j, 0.+0.j, 1.+0.j, 0.+0.j]])"
     },
     "execution_count": 68,
     "metadata": {},
     "output_type": "execute_result"
    }
   ],
   "source": [
    "(I ^ X).to_matrix()"
   ],
   "metadata": {
    "collapsed": false
   }
  },
  {
   "cell_type": "code",
   "execution_count": 72,
   "outputs": [],
   "source": [
    "processor = TorchLearningModelProcessor(\n",
    "    model=model,\n",
    "    backend=backend\n",
    ")\n",
    "\n",
    "str2opflow = {\n",
    "    'I': I,\n",
    "    'X': X,\n",
    "    'Y': Y,\n",
    "    'Z': Z,\n",
    "}\n",
    "\n",
    "coefficent = np.random.uniform(-1, 1, size=10)\n",
    "operator_components = np.random.choice(train_meas_bases, size=2).tolist()+np.random.choice(test_meas_bases, size=8).tolist()\n",
    "\n",
    "operator_components_opflow = []\n",
    "for op_component in operator_components:\n",
    "    op_f = 1\n",
    "    for op_str in list(op_component):\n",
    "        op_f = str2opflow[op_str] ^ op_f\n",
    "    operator_components_opflow.append(op_f)\n",
    "\n",
    "# print(operator_components_opflow)\n",
    "operator = np.dot(coefficent, operator_components_opflow)\n",
    "# print(operator)\n",
    "\n",
    "ansatz = TwoLocal(num_qubits=3, rotation_blocks=\"ry\", entanglement_blocks=\"cz\")\n",
    "\n",
    "learning_estimator = learning(Estimator, processor=processor, backend=backend, skip_transpile=True)\n",
    "# estimator = learning_estimator()\n",
    "estimator = Estimator()\n",
    "\n",
    "history = []\n",
    "\n",
    "slsqp = SLSQP(maxiter=100)\n",
    "vqe = VQE(estimator, ansatz, slsqp, callback=lambda a, b, c, d: history.append(c))\n",
    "result = vqe.compute_minimum_eigenvalue(operator)"
   ],
   "metadata": {
    "collapsed": false
   }
  },
  {
   "cell_type": "code",
   "execution_count": 79,
   "outputs": [
    {
     "data": {
      "text/plain": "<Axes: >"
     },
     "execution_count": 79,
     "metadata": {},
     "output_type": "execute_result"
    },
    {
     "data": {
      "text/plain": "<Figure size 432x288 with 1 Axes>",
      "image/png": "[encoded data removed]"
     },
     "metadata": {
      "needs_background": "light"
     },
     "output_type": "display_data"
    }
   ],
   "source": [
    "import seaborn as sns\n",
    "sns.lineplot(history)"
   ],
   "metadata": {
    "collapsed": false
   }
  },
  {
   "cell_type": "code",
   "execution_count": null,
   "outputs": [],
   "source": [],
   "metadata": {
    "collapsed": false
   }
  }
 ],
 "metadata": {
  "kernelspec": {
   "display_name": "Python 3",
   "language": "python",
   "name": "python3"
  },
  "language_info": {
   "codemirror_mode": {
    "name": "ipython",
    "version": 2
   },
   "file_extension": ".py",
   "mimetype": "text/x-python",
   "name": "python",
   "nbconvert_exporter": "python",
   "pygments_lexer": "ipython2",
   "version": "2.7.6"
  }
 },
 "nbformat": 4,
 "nbformat_minor": 0
}
