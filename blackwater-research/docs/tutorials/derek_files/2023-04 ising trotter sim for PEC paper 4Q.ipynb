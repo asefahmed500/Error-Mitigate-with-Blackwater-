{
 "cells": [
  {
   "attachments": {},
   "cell_type": "markdown",
   "metadata": {},
   "source": [
    "Notes: \n",
    "* [Qiskit Nature tutorials](https://qiskit.org/documentation/nature/tutorials/index.html)\n",
    "* [IBM Challenges](https://github.com/search?q=org%3Aqiskit-community+challenge)\n",
    "* [2022 Spring Challenge - tight binding](https://github.com/qiskit-community/ibm-quantum-spring-challenge-2022/blob/main/exercise1/01.CM_trotterization.ipynb)\n",
    "* [2021 IBM Quantum Simulation challenge](https://github.com/qiskit-community/open-science-prize-2021/blob/main/ibmq-qsim-challenge.ipynb)\n",
    "* [2018 community tutorial ising model time simulation](https://github.com/qiskit-community/qiskit-community-tutorials/blob/master/awards/teach_me_qiskit_2018/exact_ising_model_simulation/Ising_time_evolution.ipynb)"
   ]
  },
  {
   "cell_type": "code",
   "execution_count": 1,
   "metadata": {},
   "outputs": [],
   "source": [
    "from qiskit import *\n",
    "from typing import TypedDict\n"
   ]
  },
  {
   "cell_type": "code",
   "execution_count": 22,
   "metadata": {},
   "outputs": [],
   "source": [
    "from qiskit import *\n",
    "from typing import TypedDict\n",
    "\n",
    "import pandas as pd \n",
    "from qiskit.quantum_info import SparsePauliOp\n",
    "from qiskit.result import sampled_expectation_value, Counts\n",
    "from typing import Union, List, Dict\n",
    "\n",
    "class CountsProcess:\n",
    "    \n",
    "    @classmethod \n",
    "    def pauli_exp_val_all1Q_for_counts(cls, counts:Union[List[Counts], Counts], nolabels=False):\n",
    "        \"\"\" Pauli expectaitoin value for all isngle qubit Z observables across all counts.\n",
    "            - Simplest version\n",
    "            - Not very efficient\n",
    "        Returns:\n",
    "            - <Z> for qubit Q0...Qn-1 with ordering qubit index is array index.\n",
    "            - Pauli labels returened are in rightmost is Q0 (qiskit convention)\n",
    "              To put ot physics notation when in df columns: \n",
    "                    df.columns = list(map(lambda x: x[::-1],df.columns))\n",
    "            \"\"\"\n",
    "        if isinstance(counts, Counts):\n",
    "            nq = counts.creg_sizes[0][1]\n",
    "            expects = [] if nolabels else {}\n",
    "            for n in range(nq):\n",
    "                # In the string representation qubit-0 corresponds to the right-most Pauli character\n",
    "                pauli = SparsePauliOp.from_sparse_list([(\"Z\", [n], 1)], nq)\n",
    "                expect = sampled_expectation_value(counts, pauli)\n",
    "                if nolabels:\n",
    "                    expects += [expect]\n",
    "                else:\n",
    "                    expects[pauli.paulis.to_labels()[0]] = expect\n",
    "            return expects\n",
    "        elif isinstance(counts, list):\n",
    "            expects = []\n",
    "            for count in counts:\n",
    "                expect = cls.pauli_exp_val_all1Q_for_counts(count)\n",
    "                expects += [expect]\n",
    "            return expects\n",
    "        \n",
    "    @classmethod \n",
    "    def pauli_exp_val_all2Q_for_counts(cls, counts:Union[List[Counts], Counts], nolabels=False):\n",
    "        \"\"\" Pauli expectaitoin value for all isngle qubit Z observables across all counts.\n",
    "            - Simplest version\n",
    "            - Not very efficient\n",
    "        Returns:\n",
    "            - <Z> for qubit Q0...Qn-1 with ordering qubit index is array index.\n",
    "            - Pauli labels returened are in rightmost is Q0 (qiskit convention)\n",
    "              To put ot physics notation when in df columns: \n",
    "                    df.columns = list(map(lambda x: x[::-1],df.columns))\n",
    "            \"\"\"\n",
    "        if isinstance(counts, Counts):\n",
    "            nq = counts.creg_sizes[0][1]\n",
    "            expects = [] if nolabels else {}\n",
    "            for n in range(nq):\n",
    "                for m in range(n+1, nq):\n",
    "                    # In the string representation qubit-0 corresponds to the right-most Pauli character\n",
    "                    pauli = SparsePauliOp.from_sparse_list([(\"ZZ\", [n,m], 1)], nq)\n",
    "                    expect = sampled_expectation_value(counts, pauli)\n",
    "                    if nolabels:\n",
    "                        expects += [expect]\n",
    "                    else:\n",
    "                        expects[pauli.paulis.to_labels()[0]] = expect\n",
    "            return expects\n",
    "        elif isinstance(counts, list):\n",
    "            expects = []\n",
    "            for count in counts:\n",
    "                expect = cls.pauli_exp_val_all2Q_for_counts(count)\n",
    "                expects += [expect]\n",
    "            return expects\n",
    "            \n",
    "\n",
    "class IsingModel:\n",
    "\n",
    "    class Options(dict):\n",
    "        def __init__(self, *args, **kwargs):\n",
    "            super().__init__()\n",
    "            self['nq'] = 4\n",
    "            self['h'] = 1\n",
    "            self['J'] = 0.15\n",
    "            self['dt'] = 1/4\n",
    "            self['depth'] = 15\n",
    "            self.update(*args, **kwargs)\n",
    "            \n",
    "        def config_4q_paper(self):\n",
    "            self['h'] = 1\n",
    "            self['J'] = 0.15\n",
    "            self['dt'] = 1/4*2\n",
    "            \n",
    "        def config_10q_paper(self):\n",
    "            self['h'] = 1\n",
    "            self['J'] = 0.5236\n",
    "            self['dt'] = 1/4\n",
    "            \n",
    "        \n",
    "    @classmethod\n",
    "    def apply_quantum_circuit_layer(cls, qc: QuantumCircuit, ops: 'IsingModel.Options'):\n",
    "        allq = list(range(ops['nq']))\n",
    "\n",
    "        qc.rx(2*ops['h']*ops['dt'], allq)\n",
    "\n",
    "        qc.barrier()\n",
    "        for q0 in allq[0::2]:\n",
    "            q1 = q0+1\n",
    "            qc.cx(q0,q1)\n",
    "        qc.rz(-2*ops['J']*ops['dt'], allq[1::2])\n",
    "        for q0 in allq[0::2]:\n",
    "            q1 = q0+1\n",
    "            qc.cx(q0,q1)\n",
    "            \n",
    "        qc.barrier()\n",
    "        for q0 in allq[1:-2:2]:\n",
    "            q1 = q0+1\n",
    "            qc.cx(q0,q1)\n",
    "        qc.rz(-2*ops['J']*ops['dt'], allq[2:-1:2])\n",
    "        for q0 in allq[1:-2:2]:\n",
    "            q1 = q0+1\n",
    "            qc.cx(q0,q1)\n",
    "        qc.barrier()\n",
    "        \n",
    "    @classmethod\n",
    "    def make_quantum_circuit(cls, ops: 'IsingModel.Options'):\n",
    "        qc = QuantumCircuit(ops['nq'])\n",
    "        allq = list(range(ops['nq']))\n",
    "        \n",
    "        for step in range(ops['depth']):\n",
    "            cls.apply_quantum_circuit_layer(qc, ops)\n",
    "            \n",
    "        if ops['measure_basis'] == 'Z':\n",
    "            pass\n",
    "        elif  ops['measure_basis'] == 'X':\n",
    "            qc.h(allq)\n",
    "        elif  ops['measure_basis'] == 'Y':\n",
    "            qc.sdg(allq)\n",
    "            qc.h(allq)\n",
    "        else:\n",
    "            raise Exception(\"Must be X Y or Z\")\n",
    "        qc.measure_all()\n",
    "        \n",
    "        return qc\n",
    "\n",
    "    @classmethod\n",
    "    def make_circs_sweep(cls, ops, sweep_steps = None, measure_bases = None):\n",
    "        sweep_steps = sweep_steps or [16]\n",
    "        measure_bases = measure_bases or ['Z']\n",
    "\n",
    "        circs = []\n",
    "        run_params = []\n",
    "        for basis in measure_bases:\n",
    "            for depth in range(*sweep_steps):\n",
    "                ops['measure_basis'] = basis\n",
    "                ops['depth'] = depth\n",
    "                qc = cls.make_quantum_circuit(ops)\n",
    "                qc.metadata = {}\n",
    "                qc.metadata['measure_basis'] = basis\n",
    "                qc.metadata['depth'] = depth\n",
    "                run_params += [qc.metadata.copy()]\n",
    "                circs += [qc]\n",
    "        return circs, run_params"
   ]
  },
  {
   "cell_type": "code",
   "execution_count": 23,
   "metadata": {},
   "outputs": [
    {
     "data": {
      "text/plain": "        ┌───────┐ ░                         ░                         ░ ┌───────┐ ░                         ░                         ░  ░ ┌─┐         \n   q_0: ┤ Rx(1) ├─░───■─────────────────■───░─────────────────────────░─┤ Rx(1) ├─░───■─────────────────■───░─────────────────────────░──░─┤M├─────────\n        ├───────┤ ░ ┌─┴─┐┌───────────┐┌─┴─┐ ░                         ░ ├───────┤ ░ ┌─┴─┐┌───────────┐┌─┴─┐ ░                         ░  ░ └╥┘┌─┐      \n   q_1: ┤ Rx(1) ├─░─┤ X ├┤ Rz(-0.15) ├┤ X ├─░───■─────────────────■───░─┤ Rx(1) ├─░─┤ X ├┤ Rz(-0.15) ├┤ X ├─░───■─────────────────■───░──░──╫─┤M├──────\n        ├───────┤ ░ └───┘└───────────┘└───┘ ░ ┌─┴─┐┌───────────┐┌─┴─┐ ░ ├───────┤ ░ └───┘└───────────┘└───┘ ░ ┌─┴─┐┌───────────┐┌─┴─┐ ░  ░  ║ └╥┘┌─┐   \n   q_2: ┤ Rx(1) ├─░───■─────────────────■───░─┤ X ├┤ Rz(-0.15) ├┤ X ├─░─┤ Rx(1) ├─░───■─────────────────■───░─┤ X ├┤ Rz(-0.15) ├┤ X ├─░──░──╫──╫─┤M├───\n        ├───────┤ ░ ┌─┴─┐┌───────────┐┌─┴─┐ ░ └───┘└───────────┘└───┘ ░ ├───────┤ ░ ┌─┴─┐┌───────────┐┌─┴─┐ ░ └───┘└───────────┘└───┘ ░  ░  ║  ║ └╥┘┌─┐\n   q_3: ┤ Rx(1) ├─░─┤ X ├┤ Rz(-0.15) ├┤ X ├─░─────────────────────────░─┤ Rx(1) ├─░─┤ X ├┤ Rz(-0.15) ├┤ X ├─░─────────────────────────░──░──╫──╫──╫─┤M├\n        └───────┘ ░ └───┘└───────────┘└───┘ ░                         ░ └───────┘ ░ └───┘└───────────┘└───┘ ░                         ░  ░  ║  ║  ║ └╥┘\nmeas: 4/════════════════════════════════════════════════════════════════════════════════════════════════════════════════════════════════════╩══╩══╩══╩═\n                                                                                                                                            0  1  2  3 ",
      "text/html": "<pre style=\"word-wrap: normal;white-space: pre;background: #fff0;line-height: 1.1;font-family: &quot;Courier New&quot;,Courier,monospace\">        ┌───────┐ ░                         ░                         ░ ┌───────┐ ░                         ░                         ░  ░ ┌─┐         \n   q_0: ┤ Rx(1) ├─░───■─────────────────■───░─────────────────────────░─┤ Rx(1) ├─░───■─────────────────■───░─────────────────────────░──░─┤M├─────────\n        ├───────┤ ░ ┌─┴─┐┌───────────┐┌─┴─┐ ░                         ░ ├───────┤ ░ ┌─┴─┐┌───────────┐┌─┴─┐ ░                         ░  ░ └╥┘┌─┐      \n   q_1: ┤ Rx(1) ├─░─┤ X ├┤ Rz(-0.15) ├┤ X ├─░───■─────────────────■───░─┤ Rx(1) ├─░─┤ X ├┤ Rz(-0.15) ├┤ X ├─░───■─────────────────■───░──░──╫─┤M├──────\n        ├───────┤ ░ └───┘└───────────┘└───┘ ░ ┌─┴─┐┌───────────┐┌─┴─┐ ░ ├───────┤ ░ └───┘└───────────┘└───┘ ░ ┌─┴─┐┌───────────┐┌─┴─┐ ░  ░  ║ └╥┘┌─┐   \n   q_2: ┤ Rx(1) ├─░───■─────────────────■───░─┤ X ├┤ Rz(-0.15) ├┤ X ├─░─┤ Rx(1) ├─░───■─────────────────■───░─┤ X ├┤ Rz(-0.15) ├┤ X ├─░──░──╫──╫─┤M├───\n        ├───────┤ ░ ┌─┴─┐┌───────────┐┌─┴─┐ ░ └───┘└───────────┘└───┘ ░ ├───────┤ ░ ┌─┴─┐┌───────────┐┌─┴─┐ ░ └───┘└───────────┘└───┘ ░  ░  ║  ║ └╥┘┌─┐\n   q_3: ┤ Rx(1) ├─░─┤ X ├┤ Rz(-0.15) ├┤ X ├─░─────────────────────────░─┤ Rx(1) ├─░─┤ X ├┤ Rz(-0.15) ├┤ X ├─░─────────────────────────░──░──╫──╫──╫─┤M├\n        └───────┘ ░ └───┘└───────────┘└───┘ ░                         ░ └───────┘ ░ └───┘└───────────┘└───┘ ░                         ░  ░  ║  ║  ║ └╥┘\nmeas: 4/════════════════════════════════════════════════════════════════════════════════════════════════════════════════════════════════════╩══╩══╩══╩═\n                                                                                                                                            0  1  2  3 </pre>"
     },
     "execution_count": 23,
     "metadata": {},
     "output_type": "execute_result"
    }
   ],
   "source": [
    "cls = IsingModel\n",
    "ops = cls.Options()\n",
    "ops.config_4q_paper()\n",
    "# ops.config_10q_paper()\n",
    "circs, run_params = cls.make_circs_sweep(ops, measure_bases=['Z', 'Y'])\n",
    "circs[2].draw(fold=-1)"
   ]
  },
  {
   "cell_type": "code",
   "execution_count": 24,
   "metadata": {},
   "outputs": [
    {
     "name": "stdout",
     "output_type": "stream",
     "text": [
      "5d027103-ca37-415c-9b43-6e51b36e52e4\n"
     ]
    }
   ],
   "source": [
    "backend = Aer.get_backend('aer_simulator')\n",
    "job = backend.run(circs, shots =1024*3)\n",
    "print(job.job_id())\n",
    "job_result = job.result()\n",
    "all_counts = job_result.get_counts()"
   ]
  },
  {
   "cell_type": "code",
   "execution_count": 25,
   "metadata": {},
   "outputs": [
    {
     "data": {
      "text/plain": "           ZIII      IZII      IIZI      IIIZ measure_basis\ndepth                                                      \n0      1.000000  1.000000  1.000000  1.000000             Z\n1      0.548177  0.537760  0.527995  0.547526             Z\n2     -0.411458 -0.406250 -0.363281 -0.416667             Z\n3     -0.964844 -0.942708 -0.939453 -0.962240             Z\n4     -0.645182 -0.581380 -0.604818 -0.644531             Z\n5      0.235677  0.241536  0.233724  0.263021             Z\n6      0.865234  0.783854  0.779948  0.866536             Z\n7      0.664062  0.591797  0.599609  0.665365             Z\n8     -0.114583 -0.055990 -0.052734 -0.123698             Z\n9     -0.707031 -0.557292 -0.554036 -0.716797             Z\n10    -0.643880 -0.522786 -0.499349 -0.630859             Z\n11     0.011719 -0.032552  0.000000  0.001953             Z\n12     0.541667  0.372396  0.380859  0.566406             Z\n13     0.572266  0.416667  0.382161  0.507812             Z\n14     0.089844  0.080078  0.082031  0.055339             Z\n15    -0.347005 -0.180339 -0.205078 -0.361328             Z\n0      0.002604  0.028646 -0.022786 -0.006510             Y\n1     -0.842448 -0.822917 -0.813802 -0.825521             Y\n2     -0.875651 -0.862630 -0.856120 -0.891927             Y\n3     -0.120443 -0.110026 -0.083333 -0.137370             Y\n4      0.713542  0.653646  0.660807  0.710938             Y\n5      0.848307  0.761719  0.774740  0.864583             Y\n6      0.213542  0.216797  0.222656  0.220703             Y\n7     -0.554036 -0.458333 -0.510417 -0.569661             Y\n8     -0.787760 -0.638021 -0.631510 -0.789062             Y\n9     -0.321615 -0.276693 -0.237630 -0.279297             Y\n10     0.399089  0.289062  0.281250  0.391276             Y\n11     0.664062  0.465495  0.464193  0.661458             Y\n12     0.317057  0.214844  0.190104  0.276693             Y\n13    -0.248698 -0.150391 -0.153646 -0.248698             Y\n14    -0.480469 -0.298828 -0.328125 -0.511719             Y\n15    -0.259766 -0.184896 -0.177083 -0.252604             Y",
      "text/html": "<div>\n<style scoped>\n    .dataframe tbody tr th:only-of-type {\n        vertical-align: middle;\n    }\n\n    .dataframe tbody tr th {\n        vertical-align: top;\n    }\n\n    .dataframe thead th {\n        text-align: right;\n    }\n</style>\n<table border=\"1\" class=\"dataframe\">\n  <thead>\n    <tr style=\"text-align: right;\">\n      <th></th>\n      <th>ZIII</th>\n      <th>IZII</th>\n      <th>IIZI</th>\n      <th>IIIZ</th>\n      <th>measure_basis</th>\n    </tr>\n    <tr>\n      <th>depth</th>\n      <th></th>\n      <th></th>\n      <th></th>\n      <th></th>\n      <th></th>\n    </tr>\n  </thead>\n  <tbody>\n    <tr>\n      <th>0</th>\n      <td>1.000000</td>\n      <td>1.000000</td>\n      <td>1.000000</td>\n      <td>1.000000</td>\n      <td>Z</td>\n    </tr>\n    <tr>\n      <th>1</th>\n      <td>0.548177</td>\n      <td>0.537760</td>\n      <td>0.527995</td>\n      <td>0.547526</td>\n      <td>Z</td>\n    </tr>\n    <tr>\n      <th>2</th>\n      <td>-0.411458</td>\n      <td>-0.406250</td>\n      <td>-0.363281</td>\n      <td>-0.416667</td>\n      <td>Z</td>\n    </tr>\n    <tr>\n      <th>3</th>\n      <td>-0.964844</td>\n      <td>-0.942708</td>\n      <td>-0.939453</td>\n      <td>-0.962240</td>\n      <td>Z</td>\n    </tr>\n    <tr>\n      <th>4</th>\n      <td>-0.645182</td>\n      <td>-0.581380</td>\n      <td>-0.604818</td>\n      <td>-0.644531</td>\n      <td>Z</td>\n    </tr>\n    <tr>\n      <th>5</th>\n      <td>0.235677</td>\n      <td>0.241536</td>\n      <td>0.233724</td>\n      <td>0.263021</td>\n      <td>Z</td>\n    </tr>\n    <tr>\n      <th>6</th>\n      <td>0.865234</td>\n      <td>0.783854</td>\n      <td>0.779948</td>\n      <td>0.866536</td>\n      <td>Z</td>\n    </tr>\n    <tr>\n      <th>7</th>\n      <td>0.664062</td>\n      <td>0.591797</td>\n      <td>0.599609</td>\n      <td>0.665365</td>\n      <td>Z</td>\n    </tr>\n    <tr>\n      <th>8</th>\n      <td>-0.114583</td>\n      <td>-0.055990</td>\n      <td>-0.052734</td>\n      <td>-0.123698</td>\n      <td>Z</td>\n    </tr>\n    <tr>\n      <th>9</th>\n      <td>-0.707031</td>\n      <td>-0.557292</td>\n      <td>-0.554036</td>\n      <td>-0.716797</td>\n      <td>Z</td>\n    </tr>\n    <tr>\n      <th>10</th>\n      <td>-0.643880</td>\n      <td>-0.522786</td>\n      <td>-0.499349</td>\n      <td>-0.630859</td>\n      <td>Z</td>\n    </tr>\n    <tr>\n      <th>11</th>\n      <td>0.011719</td>\n      <td>-0.032552</td>\n      <td>0.000000</td>\n      <td>0.001953</td>\n      <td>Z</td>\n    </tr>\n    <tr>\n      <th>12</th>\n      <td>0.541667</td>\n      <td>0.372396</td>\n      <td>0.380859</td>\n      <td>0.566406</td>\n      <td>Z</td>\n    </tr>\n    <tr>\n      <th>13</th>\n      <td>0.572266</td>\n      <td>0.416667</td>\n      <td>0.382161</td>\n      <td>0.507812</td>\n      <td>Z</td>\n    </tr>\n    <tr>\n      <th>14</th>\n      <td>0.089844</td>\n      <td>0.080078</td>\n      <td>0.082031</td>\n      <td>0.055339</td>\n      <td>Z</td>\n    </tr>\n    <tr>\n      <th>15</th>\n      <td>-0.347005</td>\n      <td>-0.180339</td>\n      <td>-0.205078</td>\n      <td>-0.361328</td>\n      <td>Z</td>\n    </tr>\n    <tr>\n      <th>0</th>\n      <td>0.002604</td>\n      <td>0.028646</td>\n      <td>-0.022786</td>\n      <td>-0.006510</td>\n      <td>Y</td>\n    </tr>\n    <tr>\n      <th>1</th>\n      <td>-0.842448</td>\n      <td>-0.822917</td>\n      <td>-0.813802</td>\n      <td>-0.825521</td>\n      <td>Y</td>\n    </tr>\n    <tr>\n      <th>2</th>\n      <td>-0.875651</td>\n      <td>-0.862630</td>\n      <td>-0.856120</td>\n      <td>-0.891927</td>\n      <td>Y</td>\n    </tr>\n    <tr>\n      <th>3</th>\n      <td>-0.120443</td>\n      <td>-0.110026</td>\n      <td>-0.083333</td>\n      <td>-0.137370</td>\n      <td>Y</td>\n    </tr>\n    <tr>\n      <th>4</th>\n      <td>0.713542</td>\n      <td>0.653646</td>\n      <td>0.660807</td>\n      <td>0.710938</td>\n      <td>Y</td>\n    </tr>\n    <tr>\n      <th>5</th>\n      <td>0.848307</td>\n      <td>0.761719</td>\n      <td>0.774740</td>\n      <td>0.864583</td>\n      <td>Y</td>\n    </tr>\n    <tr>\n      <th>6</th>\n      <td>0.213542</td>\n      <td>0.216797</td>\n      <td>0.222656</td>\n      <td>0.220703</td>\n      <td>Y</td>\n    </tr>\n    <tr>\n      <th>7</th>\n      <td>-0.554036</td>\n      <td>-0.458333</td>\n      <td>-0.510417</td>\n      <td>-0.569661</td>\n      <td>Y</td>\n    </tr>\n    <tr>\n      <th>8</th>\n      <td>-0.787760</td>\n      <td>-0.638021</td>\n      <td>-0.631510</td>\n      <td>-0.789062</td>\n      <td>Y</td>\n    </tr>\n    <tr>\n      <th>9</th>\n      <td>-0.321615</td>\n      <td>-0.276693</td>\n      <td>-0.237630</td>\n      <td>-0.279297</td>\n      <td>Y</td>\n    </tr>\n    <tr>\n      <th>10</th>\n      <td>0.399089</td>\n      <td>0.289062</td>\n      <td>0.281250</td>\n      <td>0.391276</td>\n      <td>Y</td>\n    </tr>\n    <tr>\n      <th>11</th>\n      <td>0.664062</td>\n      <td>0.465495</td>\n      <td>0.464193</td>\n      <td>0.661458</td>\n      <td>Y</td>\n    </tr>\n    <tr>\n      <th>12</th>\n      <td>0.317057</td>\n      <td>0.214844</td>\n      <td>0.190104</td>\n      <td>0.276693</td>\n      <td>Y</td>\n    </tr>\n    <tr>\n      <th>13</th>\n      <td>-0.248698</td>\n      <td>-0.150391</td>\n      <td>-0.153646</td>\n      <td>-0.248698</td>\n      <td>Y</td>\n    </tr>\n    <tr>\n      <th>14</th>\n      <td>-0.480469</td>\n      <td>-0.298828</td>\n      <td>-0.328125</td>\n      <td>-0.511719</td>\n      <td>Y</td>\n    </tr>\n    <tr>\n      <th>15</th>\n      <td>-0.259766</td>\n      <td>-0.184896</td>\n      <td>-0.177083</td>\n      <td>-0.252604</td>\n      <td>Y</td>\n    </tr>\n  </tbody>\n</table>\n</div>"
     },
     "execution_count": 25,
     "metadata": {},
     "output_type": "execute_result"
    }
   ],
   "source": [
    "exp_vals = CountsProcess.pauli_exp_val_all1Q_for_counts(all_counts)\n",
    "df = pd.DataFrame(exp_vals)\n",
    "df.columns = list(map(lambda x: x[::-1],df.columns))\n",
    "df = pd.concat([df, pd.DataFrame(run_params)], axis=1)\n",
    "df = df.set_index('depth')\n",
    "df"
   ]
  },
  {
   "cell_type": "code",
   "execution_count": 27,
   "metadata": {},
   "outputs": [
    {
     "data": {
      "text/plain": "<Axes: xlabel='depth'>"
     },
     "execution_count": 27,
     "metadata": {},
     "output_type": "execute_result"
    },
    {
     "data": {
      "text/plain": "<Figure size 720x288 with 2 Axes>",
      "image/png": "[encoded data removed]"
     },
     "metadata": {
      "needs_background": "light"
     },
     "output_type": "display_data"
    }
   ],
   "source": [
    "import matplotlib.pyplot as plt\n",
    "Ys = df.query('measure_basis==\"Y\"').drop('measure_basis', axis=1)\n",
    "Zs = df.query('measure_basis==\"Z\"').drop('measure_basis', axis=1)\n",
    "Y = Ys.mean(axis=1)\n",
    "Z = Zs.mean(axis=1)\n",
    "\n",
    "fig, axs = plt.subplots(1,2,figsize=(10,4))\n",
    "\n",
    "ax = axs[0]\n",
    "Ys1 = Ys.copy()\n",
    "Ys1.columns = list(map(lambda x: x.replace('Z','Y'), Ys.columns))\n",
    "Ys1.plot(ax=ax)\n",
    "Zs.plot(ax=ax)\n",
    "\n",
    "# ax = axs[1]\n",
    "# ax.plot(Y, Z, marker='o')\n",
    "# ax.set_aspect(1)\n",
    "# ax.set_ylim([-1,1])\n",
    "# ax.set_xlim([-1,1])\n",
    "# circ = plt.Circle((0,0), 1, fill = False, color='gray', zorder=-1)\n",
    "# ax.add_artist(circ)\n",
    "# for n in range(1,5):\n",
    "#     circ = plt.Circle((0,0), n*0.2, fill = False, color='gray', lw=0.5, linestyle='--', zorder=-1)\n",
    "#     ax.add_artist(circ)\n",
    "# ax.grid()\n",
    "# ax.set_xlabel('<Y>')\n",
    "# ax.set_ylabel('<Z>')"
   ]
  },
  {
   "cell_type": "code",
   "execution_count": 12,
   "metadata": {},
   "outputs": [
    {
     "ename": "NameError",
     "evalue": "name 'all_counts' is not defined",
     "output_type": "error",
     "traceback": [
      "\u001B[0;31m---------------------------------------------------------------------------\u001B[0m",
      "\u001B[0;31mNameError\u001B[0m                                 Traceback (most recent call last)",
      "Input \u001B[0;32mIn [12]\u001B[0m, in \u001B[0;36m<cell line: 1>\u001B[0;34m()\u001B[0m\n\u001B[0;32m----> 1\u001B[0m exp_vals \u001B[38;5;241m=\u001B[39m CountsProcess\u001B[38;5;241m.\u001B[39mpauli_exp_val_all2Q_for_counts(\u001B[43mall_counts\u001B[49m)\n\u001B[1;32m      2\u001B[0m df \u001B[38;5;241m=\u001B[39m pd\u001B[38;5;241m.\u001B[39mDataFrame(exp_vals)\n\u001B[1;32m      3\u001B[0m df\u001B[38;5;241m.\u001B[39mcolumns \u001B[38;5;241m=\u001B[39m \u001B[38;5;28mlist\u001B[39m(\u001B[38;5;28mmap\u001B[39m(\u001B[38;5;28;01mlambda\u001B[39;00m x: x[::\u001B[38;5;241m-\u001B[39m\u001B[38;5;241m1\u001B[39m],df\u001B[38;5;241m.\u001B[39mcolumns))\n",
      "\u001B[0;31mNameError\u001B[0m: name 'all_counts' is not defined"
     ]
    }
   ],
   "source": [
    "exp_vals = CountsProcess.pauli_exp_val_all2Q_for_counts(all_counts)\n",
    "df = pd.DataFrame(exp_vals)\n",
    "df.columns = list(map(lambda x: x[::-1],df.columns))\n",
    "df = pd.concat([df, pd.DataFrame(run_params)], axis=1)\n",
    "df = df.set_index('depth')\n",
    "df"
   ]
  },
  {
   "cell_type": "code",
   "execution_count": 11,
   "metadata": {},
   "outputs": [
    {
     "ename": "NameError",
     "evalue": "name 'df' is not defined",
     "output_type": "error",
     "traceback": [
      "\u001B[0;31m---------------------------------------------------------------------------\u001B[0m",
      "\u001B[0;31mNameError\u001B[0m                                 Traceback (most recent call last)",
      "Input \u001B[0;32mIn [11]\u001B[0m, in \u001B[0;36m<cell line: 2>\u001B[0;34m()\u001B[0m\n\u001B[1;32m      1\u001B[0m \u001B[38;5;28;01mimport\u001B[39;00m \u001B[38;5;21;01mmatplotlib\u001B[39;00m\u001B[38;5;21;01m.\u001B[39;00m\u001B[38;5;21;01mpyplot\u001B[39;00m \u001B[38;5;28;01mas\u001B[39;00m \u001B[38;5;21;01mplt\u001B[39;00m\n\u001B[0;32m----> 2\u001B[0m Ys \u001B[38;5;241m=\u001B[39m \u001B[43mdf\u001B[49m\u001B[38;5;241m.\u001B[39mquery(\u001B[38;5;124m'\u001B[39m\u001B[38;5;124mmeasure_basis==\u001B[39m\u001B[38;5;124m\"\u001B[39m\u001B[38;5;124mY\u001B[39m\u001B[38;5;124m\"\u001B[39m\u001B[38;5;124m'\u001B[39m)\u001B[38;5;241m.\u001B[39mdrop(\u001B[38;5;124m'\u001B[39m\u001B[38;5;124mmeasure_basis\u001B[39m\u001B[38;5;124m'\u001B[39m, axis\u001B[38;5;241m=\u001B[39m\u001B[38;5;241m1\u001B[39m)\n\u001B[1;32m      3\u001B[0m Zs \u001B[38;5;241m=\u001B[39m df\u001B[38;5;241m.\u001B[39mquery(\u001B[38;5;124m'\u001B[39m\u001B[38;5;124mmeasure_basis==\u001B[39m\u001B[38;5;124m\"\u001B[39m\u001B[38;5;124mZ\u001B[39m\u001B[38;5;124m\"\u001B[39m\u001B[38;5;124m'\u001B[39m)\u001B[38;5;241m.\u001B[39mdrop(\u001B[38;5;124m'\u001B[39m\u001B[38;5;124mmeasure_basis\u001B[39m\u001B[38;5;124m'\u001B[39m, axis\u001B[38;5;241m=\u001B[39m\u001B[38;5;241m1\u001B[39m)\n\u001B[1;32m      4\u001B[0m Y \u001B[38;5;241m=\u001B[39m Ys\u001B[38;5;241m.\u001B[39mmean(axis\u001B[38;5;241m=\u001B[39m\u001B[38;5;241m1\u001B[39m)\n",
      "\u001B[0;31mNameError\u001B[0m: name 'df' is not defined"
     ]
    }
   ],
   "source": [
    "import matplotlib.pyplot as plt\n",
    "Ys = df.query('measure_basis==\"Y\"').drop('measure_basis', axis=1)\n",
    "Zs = df.query('measure_basis==\"Z\"').drop('measure_basis', axis=1)\n",
    "Y = Ys.mean(axis=1)\n",
    "Z = Zs.mean(axis=1)\n",
    "\n",
    "fig, axs = plt.subplots(1,2,figsize=(10,4))\n",
    "\n",
    "ax = axs[0]\n",
    "Ys1 = Ys.copy()\n",
    "Ys1.columns = list(map(lambda x: x.replace('Z','Y'), Ys.columns))\n",
    "Ys1.plot(ax=ax)\n",
    "Zs.plot(ax=ax)\n",
    "\n",
    "ax = axs[1]\n",
    "ax.plot(Y, Z, marker='o')\n",
    "ax.set_aspect(1)\n",
    "ax.set_ylim([-1,1])\n",
    "ax.set_xlim([-1,1])\n",
    "circ = plt.Circle((0,0), 1, fill = False, color='gray', zorder=-1)\n",
    "ax.add_artist(circ)\n",
    "for n in range(1,5):\n",
    "    circ = plt.Circle((0,0), n*0.2, fill = False, color='gray', lw=0.5, linestyle='--', zorder=-1)\n",
    "    ax.add_artist(circ)\n",
    "ax.grid()\n",
    "ax.set_xlabel('<YY>')\n",
    "ax.set_ylabel('<ZZ>')"
   ]
  },
  {
   "cell_type": "code",
   "execution_count": null,
   "metadata": {},
   "outputs": [],
   "source": []
  }
 ],
 "metadata": {
  "kernelspec": {
   "display_name": "qiskit2023",
   "language": "python",
   "name": "python3"
  },
  "language_info": {
   "codemirror_mode": {
    "name": "ipython",
    "version": 3
   },
   "file_extension": ".py",
   "mimetype": "text/x-python",
   "name": "python",
   "nbconvert_exporter": "python",
   "pygments_lexer": "ipython3",
   "version": "3.11.0"
  },
  "orig_nbformat": 4
 },
 "nbformat": 4,
 "nbformat_minor": 2
}
