{
 "cells": [
  {
   "cell_type": "markdown",
   "id": "d0de63da-8c3a-439f-85a8-c632e7f6345c",
   "metadata": {},
   "source": [
    "# Tutorial: NGEM - Neural Graph Error Mitigation"
   ]
  },
  {
   "cell_type": "code",
   "execution_count": null,
   "id": "91706130-b80d-4e1a-96ea-c396d58e9859",
   "metadata": {},
   "outputs": [],
   "source": [
    "import json\n",
    "import glob\n",
    "\n",
    "import numpy as np\n",
    "import pandas as pd\n",
    "\n",
    "from qiskit import transpile\n",
    "from qiskit.providers.fake_provider import FakeLima\n",
    "from qiskit.primitives import Estimator\n",
    "from qiskit.circuit.random import random_circuit\n",
    "\n",
    "import torch\n",
    "from torch.optim import Adam\n",
    "from torch.optim.lr_scheduler import ReduceLROnPlateau\n",
    "from torch.nn.functional import dropout\n",
    "\n",
    "from torch_geometric.nn import GCNConv, global_mean_pool, Linear, ChebConv, SAGEConv\n",
    "from torch_geometric.data import Data\n",
    "from torch_geometric.loader import DataLoader\n",
    "\n",
    "from tqdm.notebook import tqdm_notebook\n",
    "import matplotlib.pyplot as plt\n",
    "import seaborn as sns\n",
    "\n",
    "from blackwater.data.loaders.exp_val import CircuitGraphExpValMitigationDataset\n",
    "from blackwater.data.generators.exp_val import exp_value_generator\n",
    "from blackwater.data.utils import generate_random_pauli_sum_op\n",
    "from blackwater.library.ngem.estimator import ngem"
   ]
  },
  {
   "cell_type": "code",
   "execution_count": null,
   "id": "9340e652-56db-4d48-a7c4-e90401716097",
   "metadata": {},
   "outputs": [],
   "source": [
    "lima = FakeLima()"
   ]
  },
  {
   "cell_type": "markdown",
   "id": "50e329df-c399-40ca-9d98-115694d76dde",
   "metadata": {},
   "source": [
    "### (Optional) Generate dataset"
   ]
  },
  {
   "cell_type": "code",
   "execution_count": null,
   "id": "e31ad4a6-4539-4a06-8c5b-d8ca01414473",
   "metadata": {},
   "outputs": [],
   "source": [
    "\n",
    "N_FILES = 5\n",
    "N_ENTRIES_PER_FILE = 20\n",
    "\n",
    "for i in tqdm_notebook(range(N_FILES)):\n",
    "    generator = exp_value_generator(\n",
    "        backend=lima,\n",
    "        n_qubits=5,\n",
    "        circuit_depth=2,\n",
    "        pauli_terms=1,\n",
    "        max_entries=N_ENTRIES_PER_FILE\n",
    "    )\n",
    "    with tqdm_notebook(total=N_ENTRIES_PER_FILE) as t:\n",
    "        entries = []\n",
    "        for entry in generator:\n",
    "            entries.append(entry.to_dict())\n",
    "            t.update(1)\n",
    "            \n",
    "        with open(f\"./data/random/{i}.json\", \"w\") as f:\n",
    "            json.dump(entries, f)\n"
   ]
  },
  {
   "cell_type": "markdown",
   "id": "27e6dd41-4d03-45b2-8ce2-998fbf928d66",
   "metadata": {},
   "source": [
    "### Load data"
   ]
  },
  {
   "cell_type": "code",
   "execution_count": null,
   "id": "5f12b72a-b2ce-4748-b852-78b7d959b031",
   "metadata": {},
   "outputs": [],
   "source": [
    "max_files_to_use = 5\n",
    "train_size = 4\n",
    "\n",
    "data_paths = glob.glob(\"./data/random/**.json\")[:max_files_to_use]\n",
    "\n",
    "BATCH_SIZE = 10\n",
    "\n",
    "train_loader = DataLoader(\n",
    "    CircuitGraphExpValMitigationDataset(\n",
    "        data_paths[:train_size],\n",
    "    ),\n",
    "    batch_size=BATCH_SIZE,\n",
    "    shuffle=True\n",
    ")\n",
    "\n",
    "val_loader = DataLoader(\n",
    "    CircuitGraphExpValMitigationDataset(\n",
    "        data_paths[train_size:],\n",
    "    ),\n",
    "    batch_size=BATCH_SIZE,\n",
    "    shuffle=False\n",
    ")\n",
    "\n",
    "for data in train_loader:\n",
    "    print(data)\n",
    "    # break"
   ]
  },
  {
   "cell_type": "markdown",
   "id": "12cab439-7f9a-414a-9e13-63ced34bd0ba",
   "metadata": {},
   "source": [
    "### Define model"
   ]
  },
  {
   "cell_type": "code",
   "execution_count": 12,
   "id": "1d95e565-55a0-43e7-b498-faaab3c9738a",
   "metadata": {},
   "outputs": [],
   "source": [
    "class ExpValCircuitGraphModel(torch.nn.Module):\n",
    "    def __init__(\n",
    "        self,\n",
    "        n_qubits: int,\n",
    "        num_node_features: int,\n",
    "        hidden_channels: int\n",
    "    ):\n",
    "        super().__init__()\n",
    "        self.conv1 = GCNConv(num_node_features, hidden_channels)\n",
    "        self.conv2 = GCNConv(hidden_channels, hidden_channels)\n",
    "        self.conv3 = GCNConv(hidden_channels, 1)\n",
    "        \n",
    "        self.cheb_conv1 = ChebConv(num_node_features, hidden_channels, K=3)\n",
    "        self.cheb_conv2 = ChebConv(hidden_channels, 1, K=2)\n",
    "\n",
    "        self.sage_conv1 = SAGEConv(num_node_features, hidden_channels)\n",
    "        self.sage_conv2 = SAGEConv(hidden_channels, 1)\n",
    "        \n",
    "        self.obs_seq = torch.nn.Sequential(\n",
    "            Linear(n_qubits * 4 + 1, hidden_channels),\n",
    "            torch.nn.Dropout(0.2),\n",
    "            Linear(hidden_channels, 1)\n",
    "        )\n",
    "        \n",
    "        self.body_seq = torch.nn.Sequential(\n",
    "            Linear(6, hidden_channels),\n",
    "            Linear(hidden_channels, 1)\n",
    "        )\n",
    "\n",
    "    def forward(self, \n",
    "                exp_value, observable, \n",
    "                circuit_depth, nodes, \n",
    "                edge_index, batch):\n",
    "        # GCN\n",
    "        graph = self.conv1(nodes, edge_index).relu()\n",
    "        graph = dropout(graph, training=self.training, p=0.1)\n",
    "        graph = self.conv2(graph, edge_index).relu()\n",
    "        graph = dropout(graph, training=self.training, p=0.1)\n",
    "        graph = self.conv3(graph, edge_index)\n",
    "        graph = global_mean_pool(graph, batch)\n",
    "        \n",
    "        # Cheb\n",
    "        cheb = self.cheb_conv1(nodes, edge_index).relu()\n",
    "        cheb = dropout(cheb, training=self.training, p=0.2)\n",
    "        cheb = self.cheb_conv2(cheb, edge_index)\n",
    "        cheb = global_mean_pool(cheb, batch)\n",
    "        \n",
    "        # Sage\n",
    "        sage = self.sage_conv1(nodes, edge_index).relu()\n",
    "        sage = dropout(sage, training=self.training, p=0.2)\n",
    "        sage = self.sage_conv2(sage, edge_index)\n",
    "        sage = global_mean_pool(sage, batch)\n",
    "        \n",
    "        obs = self.obs_seq(observable)\n",
    "        obs = torch.mean(obs, dim=1)\n",
    "        \n",
    "        merge = torch.cat((\n",
    "            graph, \n",
    "            cheb,\n",
    "            sage,\n",
    "            obs,\n",
    "            circuit_depth,\n",
    "            exp_value\n",
    "        ), dim=1)\n",
    "\n",
    "        return self.body_seq(merge)"
   ]
  },
  {
   "cell_type": "markdown",
   "id": "1a23c810-7300-4671-b1c2-402ff5e0dd3b",
   "metadata": {},
   "source": [
    "### Train"
   ]
  },
  {
   "cell_type": "code",
   "execution_count": 13,
   "id": "f6a54cf1-664b-410c-a1a5-dea37d402038",
   "metadata": {},
   "outputs": [],
   "source": [
    "model = ExpValCircuitGraphModel(\n",
    "    n_qubits=5,\n",
    "    num_node_features=22,\n",
    "    hidden_channels=10\n",
    ")\n",
    "optimizer = Adam(model.parameters(), lr=0.001)\n",
    "criterion = torch.nn.MSELoss()\n",
    "scheduler = ReduceLROnPlateau(optimizer,\n",
    "                              'min',\n",
    "                              factor=0.5,\n",
    "                              patience=20,\n",
    "                              verbose=True,\n",
    "                              min_lr=0.000001)\n",
    "\n"
   ]
  },
  {
   "cell_type": "code",
   "execution_count": 14,
   "id": "13ade4f8-ce8b-412f-b2f4-ac88b52add27",
   "metadata": {},
   "outputs": [
    {
     "data": {
      "application/vnd.jupyter.widget-view+json": {
       "model_id": "9ac2f48cf23645518f1706fa6585572a",
       "version_major": 2,
       "version_minor": 0
      },
      "text/plain": [
       "Model training:   0%|          | 0/10 [00:00<?, ?it/s]"
      ]
     },
     "metadata": {},
     "output_type": "display_data"
    }
   ],
   "source": [
    "min_valid_loss = np.inf\n",
    "\n",
    "train_losses = []\n",
    "val_losses = []\n",
    "\n",
    "N_EPOCHS = 10\n",
    "\n",
    "progress = tqdm_notebook(range(N_EPOCHS), desc='Model training', leave=True)\n",
    "for epoch in progress:\n",
    "    train_loss = 0.0\n",
    "    model.train()\n",
    "    for i, data in enumerate(train_loader):\n",
    "        optimizer.zero_grad()\n",
    "\n",
    "        out = model(\n",
    "            data.noisy_0,\n",
    "            data.observable,\n",
    "            data.circuit_depth,\n",
    "            data.x,\n",
    "            data.edge_index,\n",
    "            data.batch\n",
    "        )\n",
    "        loss = criterion(out, data.y)\n",
    "\n",
    "        train_loss += loss.item()\n",
    "\n",
    "        loss.backward()\n",
    "        optimizer.step()\n",
    "\n",
    "    valid_loss = 0.0\n",
    "    model.eval()\n",
    "    for i, data in enumerate(val_loader):\n",
    "        out = model(data.noisy_0, data.observable, data.circuit_depth, data.x, data.edge_index, data.batch)\n",
    "        loss = criterion(out, data.y)\n",
    "\n",
    "        valid_loss += loss.item()\n",
    "\n",
    "    scheduler.step(valid_loss)\n",
    "\n",
    "    if epoch >= 1:\n",
    "        train_losses.append(train_loss / len(train_loader))\n",
    "        val_losses.append(valid_loss / len(val_loader))\n",
    "\n",
    "        progress.set_description(f\"{round(train_losses[-1], 5)}, {round(val_losses[-1], 5)}\")\n",
    "        progress.refresh()"
   ]
  },
  {
   "cell_type": "markdown",
   "id": "77c9fbae-1f10-45c3-8ed8-e2de8bc37bbc",
   "metadata": {},
   "source": [
    "### Visualisation"
   ]
  },
  {
   "cell_type": "code",
   "execution_count": 15,
   "id": "7f057ef4-2fed-4f43-839b-0cc469c9e1bd",
   "metadata": {},
   "outputs": [
    {
     "data": {
      "image/png": "[encoded data removed]",
      "text/plain": [
       "<Figure size 432x288 with 1 Axes>"
      ]
     },
     "metadata": {
      "needs_background": "light"
     },
     "output_type": "display_data"
    },
    {
     "data": {
      "image/png": "[encoded data removed]",
      "text/plain": [
       "<Figure size 432x288 with 1 Axes>"
      ]
     },
     "metadata": {
      "needs_background": "light"
     },
     "output_type": "display_data"
    },
    {
     "data": {
      "image/png": "[encoded data removed]",
      "text/plain": [
       "<Figure size 432x288 with 1 Axes>"
      ]
     },
     "metadata": {
      "needs_background": "light"
     },
     "output_type": "display_data"
    }
   ],
   "source": [
    "\n",
    "plt.plot(train_losses, label=\"train_loss\")\n",
    "plt.plot(val_losses, label=\"val_loss\")\n",
    "plt.yscale('log')\n",
    "\n",
    "plt.legend()\n",
    "plt.show()\n",
    "\n",
    "distances = []\n",
    "for i, data in enumerate(val_loader):\n",
    "    out = model(data.noisy_0, data.observable, data.circuit_depth, data.x, data.edge_index, data.batch)\n",
    "    \n",
    "    for ideal, noisy, ngm_mitigated in zip(\n",
    "        data.y.tolist(),\n",
    "        data.noisy_0.tolist(),\n",
    "        out.tolist()\n",
    "    ):\n",
    "        ideal = np.mean(ideal)\n",
    "        noisy = np.mean(noisy)\n",
    "        ngm_mitigated = np.mean(ngm_mitigated)\n",
    "        distances.append({\n",
    "            \"ideal\": ideal,\n",
    "            \"noisy\": noisy,\n",
    "            \"ngm_mitigated\": ngm_mitigated,\n",
    "            \"dist_noisy\": np.abs(ideal - noisy),\n",
    "            \"dist_ngm\": np.abs(ideal - ngm_mitigated),\n",
    "        })\n",
    "        \n",
    "df = pd.DataFrame(distances)\n",
    "sns.boxplot(data=df[[\"dist_noisy\", \"dist_ngm\"]], orient=\"h\", showfliers = False)\n",
    "plt.title(\"Dist to ideal exp value\")\n",
    "plt.show()\n",
    "\n",
    "sns.histplot([df['ideal'], df['noisy'], df[\"ngm_mitigated\"]], kde=True, bins=40)\n",
    "plt.title(\"Exp values distribution\")\n",
    "plt.show()"
   ]
  },
  {
   "cell_type": "markdown",
   "id": "11940de1-de4c-4bf4-9ffc-566efed85472",
   "metadata": {},
   "source": [
    "### Estimator"
   ]
  },
  {
   "cell_type": "code",
   "execution_count": null,
   "id": "0805684f-fcac-4153-8199-0961143a094c",
   "metadata": {},
   "outputs": [],
   "source": [
    "circuit = transpile(random_circuit(5, 2),  lima)\n",
    "obs = generate_random_pauli_sum_op(5, 1)"
   ]
  },
  {
   "cell_type": "code",
   "execution_count": null,
   "id": "d450d7ca-b43e-491d-9304-21e32a1698ce",
   "metadata": {},
   "outputs": [],
   "source": [
    "NgemEstimator = ngem(Estimator, model=model, backend=lima)"
   ]
  },
  {
   "cell_type": "code",
   "execution_count": null,
   "id": "f579198f-bec8-4f5d-ba29-2638c02c77d5",
   "metadata": {},
   "outputs": [],
   "source": [
    "estimator = NgemEstimator()\n",
    "\n",
    "estimator.run([circuit], [obs]).result()"
   ]
  }
 ],
 "metadata": {
  "kernelspec": {
   "display_name": "Python 3 (ipykernel)",
   "language": "python",
   "name": "python3"
  },
  "language_info": {
   "codemirror_mode": {
    "name": "ipython",
    "version": 3
   },
   "file_extension": ".py",
   "mimetype": "text/x-python",
   "name": "python",
   "nbconvert_exporter": "python",
   "pygments_lexer": "ipython3",
   "version": "3.7.13"
  }
 },
 "nbformat": 4,
 "nbformat_minor": 5
}
