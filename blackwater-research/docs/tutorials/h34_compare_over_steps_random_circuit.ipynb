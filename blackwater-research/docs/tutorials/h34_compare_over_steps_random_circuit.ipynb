{
 "cells": [
  {
   "cell_type": "code",
   "execution_count": 1,
   "metadata": {
    "collapsed": true
   },
   "outputs": [],
   "source": [
    "import json, os\n",
    "import glob, pickle\n",
    "\n",
    "from tqdm.notebook import tqdm\n",
    "\n",
    "import numpy as np\n",
    "import pandas as pd\n",
    "\n",
    "from qiskit import transpile\n",
    "from qiskit import execute\n",
    "from qiskit.providers.fake_provider import FakeLima\n",
    "from qiskit.primitives import Estimator\n",
    "from qiskit.circuit.random import random_circuit\n",
    "\n",
    "import torch\n",
    "from torch.optim import Adam\n",
    "from torch.optim.lr_scheduler import ReduceLROnPlateau\n",
    "from torch.nn.functional import dropout\n",
    "\n",
    "from torch_geometric.nn import GCNConv, global_mean_pool, Linear, ChebConv, SAGEConv\n",
    "from torch_geometric.data import Data\n",
    "from torch_geometric.loader import DataLoader\n",
    "\n",
    "from tqdm.notebook import tqdm_notebook\n",
    "import matplotlib.pyplot as plt\n",
    "import seaborn as sns\n",
    "\n",
    "from blackwater.data.loaders.exp_val import CircuitGraphExpValMitigationDataset\n",
    "from blackwater.data.generators.exp_val import exp_value_generator\n",
    "from blackwater.data.utils import generate_random_pauli_sum_op\n",
    "from blackwater.library.ngem.estimator import ngem\n",
    "\n",
    "from qiskit.quantum_info import random_clifford\n",
    "\n",
    "import random\n",
    "from qiskit.circuit.library import HGate, SdgGate\n",
    "from qiskit.circuit import ClassicalRegister\n",
    "\n",
    "from blackwater.data.utils import (\n",
    "    generate_random_pauli_sum_op,\n",
    "    create_estimator_meas_data,\n",
    "    circuit_to_graph_data_json,\n",
    "    get_backend_properties_v1,\n",
    "    encode_pauli_sum_op,\n",
    "    create_meas_data_from_estimators\n",
    ")\n",
    "from blackwater.data.generators.exp_val import ExpValueEntry\n",
    "from blackwater.metrics.improvement_factor import improvement_factor, Trial, Problem\n",
    "\n",
    "from qiskit_aer import AerSimulator, QasmSimulator\n",
    "from qiskit.providers.fake_provider import FakeMontreal, FakeLima, FakeBelem\n",
    "\n",
    "from torch_geometric.nn import (\n",
    "    GCNConv,\n",
    "    TransformerConv,\n",
    "    GATv2Conv,\n",
    "    global_mean_pool,\n",
    "    Linear,\n",
    "    ChebConv,\n",
    "    SAGEConv,\n",
    "    ASAPooling,\n",
    "    dense_diff_pool,\n",
    "    avg_pool_neighbor_x\n",
    ")\n",
    "from torch_geometric.data import Data\n",
    "from torch_geometric.loader import DataLoader\n",
    "from torch_geometric.utils import to_dense_adj, to_dense_batch\n",
    "\n",
    "from qiskit import QuantumCircuit\n",
    "from qiskit.circuit.library import U3Gate, CZGate, PhaseGate, CXGate\n",
    "from mbd_utils import construct_random_clifford, cal_z_exp, calc_imbalance, cal_all_z_exp, construct_mbl_circuit, generate_disorder, modify_and_add_noise_to_model\n",
    "from gnn import ExpValCircuitGraphModel, ExpValCircuitGraphModel_2, ExpValCircuitGraphModel_3\n",
    "from mlp import MLP1, MLP2, MLP3, encode_data\n",
    "from collections import defaultdict\n",
    "from sklearn.linear_model import LinearRegression\n",
    "from noise_utils import AddNoise, RemoveReadoutErrors\n",
    "\n",
    "plt.style.use({'figure.facecolor':'white'})\n",
    "D = {'output': 'mpl', 'fold': -1}"
   ]
  },
  {
   "cell_type": "code",
   "execution_count": 2,
   "outputs": [],
   "source": [
    "backend_1 = FakeLima()\n",
    "properties_1 = get_backend_properties_v1(backend_1)\n",
    "backend_2 = FakeBelem()\n",
    "properties_2 = get_backend_properties_v1(backend_2)\n",
    "\n",
    "## Local\n",
    "backend_ideal = QasmSimulator() # Noiseless\n",
    "backend_noisy_1 = AerSimulator.from_backend(backend_1) # Noisy\n",
    "backend_noisy_2 = AerSimulator.from_backend(backend_2) # Noisy\n",
    "\n",
    "run_config_ideal = {'shots': 10000, 'backend': backend_ideal, 'name': 'ideal'}\n",
    "run_config_noisy_1 = {'shots': 10000, 'backend': backend_noisy_1, 'name': 'noisy'}\n",
    "run_config_noisy_2 = {'shots': 10000, 'backend': backend_noisy_2, 'name': 'noisy'}"
   ],
   "metadata": {
    "collapsed": false
   }
  },
  {
   "cell_type": "code",
   "execution_count": 3,
   "outputs": [],
   "source": [
    "def fix_random_seed(seed=0):\n",
    "    random.seed(seed)\n",
    "    os.environ['PYTHONHASHSEED'] = str(seed)\n",
    "    np.random.seed(seed)\n",
    "    torch.manual_seed(seed)\n",
    "    torch.cuda.manual_seed(seed)\n",
    "    torch.cuda.manual_seed_all(seed)  # if you are using multi-GPU.\n",
    "    torch.backends.cudnn.benchmark = False\n",
    "    torch.backends.cudnn.deterministic = True\n",
    "    print(f'random seed fixed to {seed}')"
   ],
   "metadata": {
    "collapsed": false
   }
  },
  {
   "cell_type": "code",
   "execution_count": 15,
   "outputs": [],
   "source": [
    "# model_path_1 = './model/ising_init_from_qasm/gnn1.pth'\n",
    "# model_path_2 = './model/ising_init_from_qasm/mlp1_smaller.pth'\n",
    "# model_path_3 = './model/ising_init_from_qasm/ols_full.pk'\n",
    "# model_path_4 = './model/ising_init_from_qasm/ols.pk'\n",
    "# model_path_5 = './model/ising_init_from_qasm/rfr_list.pk'\n",
    "\n",
    "# model_path_1 = './model/ising_init_from_qasm_coherent/gnn1.pth'\n",
    "# model_path_2 = './model/ising_init_from_qasm_coherent/mlp1_smaller.pth'\n",
    "# model_path_3 = './model/ising_init_from_qasm_coherent/ols_full.pk'\n",
    "# model_path_4 = './model/ising_init_from_qasm_coherent/ols.pk'\n",
    "# model_path_5 = './model/ising_init_from_qasm_coherent/rfr_list.pk'\n",
    "\n",
    "# model_path_1 = './model/ising_init_from_qasm_no_readout/gnn1.pth'\n",
    "# model_path_2 = './model/ising_init_from_qasm_no_readout/mlp1_smaller_2.pth'\n",
    "# model_path_3 = './model/ising_init_from_qasm_no_readout/ols_full.pk'\n",
    "# model_path_5 = './model/ising_init_from_qasm_no_readout/rfr_list.pk'\n",
    "\n",
    "# model_path_1 = './model/random_circuits/gnn1.pth'\n",
    "model_path_2 = './model/random_circuits/mlp1.pth'\n",
    "# model_path_3 = './model/random_circuits/ols_full.pk'\n",
    "# model_path_4 = './model/random_circuits/ols.pk'\n",
    "model_path_5 = './model/random_circuits/rfr_list.pk'"
   ],
   "metadata": {
    "collapsed": false
   }
  },
  {
   "cell_type": "code",
   "execution_count": 16,
   "outputs": [],
   "source": [
    "models = []\n",
    "\n",
    "# model_1 = ExpValCircuitGraphModel(\n",
    "#     num_node_features=22,\n",
    "#     hidden_channels=15\n",
    "# )\n",
    "# model_1.load_state_dict(torch.load(model_path_1), strict=True)\n",
    "# model_1.eval()\n",
    "# models.append((model_1, 'gnn'))\n",
    "#\n",
    "model_2 = MLP1(\n",
    "    input_size=58,\n",
    "    output_size=4,\n",
    "    hidden_size=128\n",
    ")\n",
    "model_2.load_state_dict(torch.load(model_path_2), strict=True)\n",
    "model_2.eval()\n",
    "models.append((model_2, 'mlp'))\n",
    "#\n",
    "# with open(model_path_3, 'rb') as f:\n",
    "#     model_3 = pickle.load(f)\n",
    "# models.append((model_3, 'ols_full'))\n",
    "\n",
    "# with open(model_path_4, 'rb') as f:\n",
    "#     model_4 = pickle.load(f)\n",
    "# models.append((model_4, 'ols'))\n",
    "\n",
    "with open(model_path_5, 'rb') as f:\n",
    "    model_5 = pickle.load(f)\n",
    "models.append((model_5, 'rfr_list'))\n",
    "\n",
    "models.append((None, 'zne'))"
   ],
   "metadata": {
    "collapsed": false
   }
  },
  {
   "cell_type": "code",
   "execution_count": 17,
   "outputs": [
    {
     "data": {
      "text/plain": "  0%|          | 0/10 [00:00<?, ?it/s]",
      "application/vnd.jupyter.widget-view+json": {
       "version_major": 2,
       "version_minor": 0,
       "model_id": "e391fd8a883943e193da2304845aa9ca"
      }
     },
     "metadata": {},
     "output_type": "display_data"
    },
    {
     "name": "stdout",
     "output_type": "stream",
     "text": [
      "2000\n"
     ]
    }
   ],
   "source": [
    "import re\n",
    "def load_circuits(data_dir, f_ext='.json'):\n",
    "    circuits = []\n",
    "    ideal_exp_vals = []\n",
    "    noisy_exp_vals = []\n",
    "    data_files = [os.path.join(data_dir, f) for f in os.listdir(data_dir) if f.endswith(f_ext)]\n",
    "    steps = []\n",
    "    for data_file in tqdm(data_files, leave=True):\n",
    "        if f_ext == '.json':\n",
    "            for entry in json.load(open(data_file, 'r')):\n",
    "                circuits.append(QuantumCircuit.from_qasm_str(entry['circuit']))\n",
    "                ideal_exp_vals.append(entry['ideal_exp_value'])\n",
    "                noisy_exp_vals.append(entry['noisy_exp_values'])\n",
    "        elif f_ext == '.pk':\n",
    "            step = int(re.search(r'\\d+', data_file.split('/')[-1]).group())\n",
    "            for entry in pickle.load(open(data_file, 'rb')):\n",
    "                steps.append(step)\n",
    "                circuits.append(entry['circuit'])\n",
    "                ideal_exp_vals.append(entry['ideal_exp_value'])\n",
    "                noisy_exp_vals.append(entry['noisy_exp_values'])\n",
    "    return circuits, ideal_exp_vals, noisy_exp_vals, steps\n",
    "\n",
    "# test_circuits, test_ideal_exp_vals, test_noisy_exp_vals, steps = load_circuits('./data/ising_init_from_qasm_no_readout/val_extra/', '.pk')\n",
    "# test_circuits, test_ideal_exp_vals, test_noisy_exp_vals, steps = load_circuits('./data/ising_init_from_qasm/val_Zonly/', '.pk')\n",
    "# print(len(test_circuits))\n",
    "\n",
    "test_circuits, test_ideal_exp_vals, test_noisy_exp_vals, steps = load_circuits('./data/haoran_mbd/random_circuits/val/', '.pk')\n",
    "print(len(test_circuits))\n",
    "\n",
    "test_noisy_exp_vals = [x[0] for x in test_noisy_exp_vals]"
   ],
   "metadata": {
    "collapsed": false
   }
  },
  {
   "cell_type": "code",
   "execution_count": 18,
   "outputs": [
    {
     "name": "stdout",
     "output_type": "stream",
     "text": [
      "2000\n"
     ]
    }
   ],
   "source": [
    "with open('./zne_mitigated/random_circuits.pk', 'rb') as file:\n",
    "    zne_mitigated = pickle.load(file)\n",
    "print(len(zne_mitigated))"
   ],
   "metadata": {
    "collapsed": false
   }
  },
  {
   "cell_type": "code",
   "execution_count": 39,
   "outputs": [
    {
     "data": {
      "text/plain": "  0%|          | 0/2000 [00:00<?, ?it/s]",
      "application/vnd.jupyter.widget-view+json": {
       "version_major": 2,
       "version_minor": 0,
       "model_id": "6037709e638a4a0c974551610bd9373d"
      }
     },
     "metadata": {},
     "output_type": "display_data"
    }
   ],
   "source": [
    "to_df = []\n",
    "\n",
    "start = 0 #300*9\n",
    "end = 100000000 #300*10\n",
    "\n",
    "for i, (circ, ideal_exp_val, noisy_exp_val, zne_val, step) in tqdm(enumerate(zip(test_circuits[start:end], test_ideal_exp_vals[start:end], test_noisy_exp_vals[start:end], zne_mitigated[start:end], steps[start:end])), total=len(test_circuits[start:end])):\n",
    "    row = dict()\n",
    "    row['ideal'] = ideal_exp_val\n",
    "    row['noisy'] = noisy_exp_val\n",
    "    row['step'] = step\n",
    "\n",
    "    circ_trans = circ\n",
    "\n",
    "################################### Same as trained ##################################\n",
    "    X1, _ = encode_data([circ_trans], properties_1, ideal_exp_val, [noisy_exp_val], num_qubits=4)\n",
    "    for j, (model, name) in enumerate(models):\n",
    "        if name == 'mlp':\n",
    "            row[name+'_1'] = model(X1).tolist()[0]\n",
    "        elif name == 'gnn':\n",
    "            row[name+'_1'] = model(entry1.noisy_0, entry1.observable, entry1.circuit_depth, entry1.x, entry1.edge_index, entry1.batch).tolist()[0]\n",
    "        elif name in ['ols_full', 'rfr_full']:\n",
    "            row[name+'_1'] = model.predict(X1).tolist()[0]\n",
    "        elif name in ['ols', 'rfr']:\n",
    "            row[name+'_1'] = model.predict(X1[:, -4:]).tolist()[0]\n",
    "        elif name in ['rfr_list']:\n",
    "            row[name+'_1'] = []\n",
    "            for q, m in enumerate(model):\n",
    "                row[name+'_1'].append(m.predict(X1))\n",
    "            row[name+'_1'] = np.array(row[name+'_1']).transpose()[0]\n",
    "        elif name in ['zne']:\n",
    "            row[name] = zne_val\n",
    "        else:\n",
    "            raise NotImplementedError\n",
    "\n",
    "################################### Different Noise Model ##################################\n",
    "    X2, _ = encode_data([circ_trans], properties_2, ideal_exp_val, [noisy_exp_val], num_qubits=4)\n",
    "    for j, (model, name) in enumerate(models):\n",
    "        if name == 'mlp':\n",
    "            row[name+'_2'] = model(X2).tolist()[0]\n",
    "        elif name == 'gnn':\n",
    "            row[name+'_2'] = model(entry2.noisy_0, entry2.observable, entry2.circuit_depth, entry2.x, entry2.edge_index, entry2.batch).tolist()[0]\n",
    "        elif name in ['ols_full', 'rfr_full']:\n",
    "            row[name+'_2'] = model.predict(X2).tolist()[0]\n",
    "        elif name in ['ols', 'rfr']:\n",
    "            row[name+'_2'] = model.predict(X2[:, -4:]).tolist()[0]\n",
    "        elif name in ['rfr_list']:\n",
    "            row[name+'_2'] = []\n",
    "            for q, m in enumerate(model):\n",
    "                row[name+'_2'].append(m.predict(X2))\n",
    "            row[name+'_2'] = np.array(row[name+'_2']).transpose()[0]\n",
    "        elif name in ['zne']:\n",
    "            row[name] = zne_val\n",
    "        else:\n",
    "            raise NotImplementedError\n",
    "\n",
    "################################### Remove noisy expectation values ##################################\n",
    "    X3, _ = encode_data([circ_trans], properties_1, ideal_exp_val, [[0, 0, 0, 0]], num_qubits=4)\n",
    "    for j, (model, name) in enumerate(models):\n",
    "        if name == 'mlp':\n",
    "            row[name+'_3'] = model(X3).tolist()[0]\n",
    "        elif name == 'gnn':\n",
    "            row[name+'_3'] = model(entry3.noisy_0, entry3.observable, entry3.circuit_depth, entry3.x, entry3.edge_index, entry3.batch).tolist()[0]\n",
    "        elif name in ['ols_full', 'rfr_full']:\n",
    "            row[name+'_3'] = model.predict(X3).tolist()[0]\n",
    "        elif name in ['ols', 'rfr']:\n",
    "            row[name+'_3'] = model.predict(X3[:, -4:]).tolist()[0]\n",
    "        elif name in ['rfr_list']:\n",
    "            row[name+'_3'] = []\n",
    "            for q, m in enumerate(model):\n",
    "                row[name+'_3'].append(m.predict(X3))\n",
    "            row[name+'_3'] = np.array(row[name+'_3']).transpose()[0]\n",
    "        elif name in ['zne']:\n",
    "            row[name] = zne_val\n",
    "        else:\n",
    "            raise NotImplementedError\n",
    "\n",
    "    to_df.append(row)"
   ],
   "metadata": {
    "collapsed": false
   }
  },
  {
   "cell_type": "code",
   "execution_count": 26,
   "outputs": [],
   "source": [
    "# def fix_zne_bug(df):\n",
    "#     for index, row in df.iterrows():\n",
    "#         if (row['step'] == 0) and (row['ideal'][2] == -1) and (row['zne'][2] == 0):\n",
    "#             row['zne'][2] = -1\n",
    "#             df.at[index, 'zne'] = row['zne']\n",
    "#     return df"
   ],
   "metadata": {
    "collapsed": false
   }
  },
  {
   "cell_type": "code",
   "execution_count": 40,
   "outputs": [
    {
     "name": "stderr",
     "output_type": "stream",
     "text": [
      "/var/folders/kj/mfqyg_tj77nf4gt67lvscdkw0000gn/T/ipykernel_13383/2111502039.py:11: FutureWarning: The default value of numeric_only in DataFrameGroupBy.mean is deprecated. In a future version, numeric_only will default to False. Either specify numeric_only or select only columns which should be valid for the function.\n",
      "  df_mean = df.groupby('step').agg('mean')\n",
      "/var/folders/kj/mfqyg_tj77nf4gt67lvscdkw0000gn/T/ipykernel_13383/2111502039.py:12: FutureWarning: The default value of numeric_only in DataFrameGroupBy.std is deprecated. In a future version, numeric_only will default to False. Either specify numeric_only or select only columns which should be valid for the function.\n",
      "  df_ste = df.groupby('step').agg('std') / np.sqrt(len(df[df['step']==0]))\n"
     ]
    }
   ],
   "source": [
    "df = pd.DataFrame(to_df)\n",
    "# df = fix_zne_bug(df)\n",
    "\n",
    "def l2_dist(list1, list2):\n",
    "    return np.sqrt(np.sum([(a - b)**2 for a, b in zip(list1, list2)]))\n",
    "\n",
    "for col in df.columns:\n",
    "    if col not in ['step', 'ideal']:\n",
    "        df[f'L2_{col}'] = df.apply(lambda row: l2_dist(row['ideal'], row[col]), axis=1)\n",
    "\n",
    "df_mean = df.groupby('step').agg('mean')\n",
    "df_ste = df.groupby('step').agg('std') / np.sqrt(len(df[df['step']==0]))"
   ],
   "metadata": {
    "collapsed": false
   }
  },
  {
   "cell_type": "code",
   "execution_count": 41,
   "outputs": [
    {
     "data": {
      "text/plain": "      L2_noisy  L2_mlp_1  L2_rfr_list_1    L2_zne  L2_mlp_2  L2_rfr_list_2  \\\nstep                                                                         \n0     0.098900  0.049650       0.040694  0.100689  0.135760       0.040694   \n2     0.114354  0.049631       0.033992  0.101875  0.144037       0.033992   \n4     0.143628  0.064947       0.049836  0.114996  0.146513       0.049836   \n6     0.165877  0.076103       0.068327  0.124068  0.153645       0.068327   \n8     0.180392  0.085492       0.074809  0.123375  0.162850       0.074809   \n10    0.185898  0.092612       0.089736  0.129256  0.165462       0.089736   \n12    0.180267  0.096015       0.094753  0.118769  0.164731       0.094753   \n14    0.200598  0.105302       0.104333  0.123706  0.179218       0.104333   \n16    0.193837  0.102518       0.100765  0.120620  0.177874       0.100765   \n18    0.195023  0.112536       0.110201  0.120988  0.179705       0.110201   \n\n      L2_mlp_3  L2_rfr_list_3  \nstep                           \n0     1.378474       1.367431  \n2     1.683318       1.650084  \n4     1.522912       1.502074  \n6     1.333812       1.320390  \n8     1.321798       1.305824  \n10    0.995794       0.990210  \n12    0.939336       0.926908  \n14    0.946761       0.938162  \n16    0.862619       0.851652  \n18    0.784985       0.778940  ",
      "text/html": "<div>\n<style scoped>\n    .dataframe tbody tr th:only-of-type {\n        vertical-align: middle;\n    }\n\n    .dataframe tbody tr th {\n        vertical-align: top;\n    }\n\n    .dataframe thead th {\n        text-align: right;\n    }\n</style>\n<table border=\"1\" class=\"dataframe\">\n  <thead>\n    <tr style=\"text-align: right;\">\n      <th></th>\n      <th>L2_noisy</th>\n      <th>L2_mlp_1</th>\n      <th>L2_rfr_list_1</th>\n      <th>L2_zne</th>\n      <th>L2_mlp_2</th>\n      <th>L2_rfr_list_2</th>\n      <th>L2_mlp_3</th>\n      <th>L2_rfr_list_3</th>\n    </tr>\n    <tr>\n      <th>step</th>\n      <th></th>\n      <th></th>\n      <th></th>\n      <th></th>\n      <th></th>\n      <th></th>\n      <th></th>\n      <th></th>\n    </tr>\n  </thead>\n  <tbody>\n    <tr>\n      <th>0</th>\n      <td>0.098900</td>\n      <td>0.049650</td>\n      <td>0.040694</td>\n      <td>0.100689</td>\n      <td>0.135760</td>\n      <td>0.040694</td>\n      <td>1.378474</td>\n      <td>1.367431</td>\n    </tr>\n    <tr>\n      <th>2</th>\n      <td>0.114354</td>\n      <td>0.049631</td>\n      <td>0.033992</td>\n      <td>0.101875</td>\n      <td>0.144037</td>\n      <td>0.033992</td>\n      <td>1.683318</td>\n      <td>1.650084</td>\n    </tr>\n    <tr>\n      <th>4</th>\n      <td>0.143628</td>\n      <td>0.064947</td>\n      <td>0.049836</td>\n      <td>0.114996</td>\n      <td>0.146513</td>\n      <td>0.049836</td>\n      <td>1.522912</td>\n      <td>1.502074</td>\n    </tr>\n    <tr>\n      <th>6</th>\n      <td>0.165877</td>\n      <td>0.076103</td>\n      <td>0.068327</td>\n      <td>0.124068</td>\n      <td>0.153645</td>\n      <td>0.068327</td>\n      <td>1.333812</td>\n      <td>1.320390</td>\n    </tr>\n    <tr>\n      <th>8</th>\n      <td>0.180392</td>\n      <td>0.085492</td>\n      <td>0.074809</td>\n      <td>0.123375</td>\n      <td>0.162850</td>\n      <td>0.074809</td>\n      <td>1.321798</td>\n      <td>1.305824</td>\n    </tr>\n    <tr>\n      <th>10</th>\n      <td>0.185898</td>\n      <td>0.092612</td>\n      <td>0.089736</td>\n      <td>0.129256</td>\n      <td>0.165462</td>\n      <td>0.089736</td>\n      <td>0.995794</td>\n      <td>0.990210</td>\n    </tr>\n    <tr>\n      <th>12</th>\n      <td>0.180267</td>\n      <td>0.096015</td>\n      <td>0.094753</td>\n      <td>0.118769</td>\n      <td>0.164731</td>\n      <td>0.094753</td>\n      <td>0.939336</td>\n      <td>0.926908</td>\n    </tr>\n    <tr>\n      <th>14</th>\n      <td>0.200598</td>\n      <td>0.105302</td>\n      <td>0.104333</td>\n      <td>0.123706</td>\n      <td>0.179218</td>\n      <td>0.104333</td>\n      <td>0.946761</td>\n      <td>0.938162</td>\n    </tr>\n    <tr>\n      <th>16</th>\n      <td>0.193837</td>\n      <td>0.102518</td>\n      <td>0.100765</td>\n      <td>0.120620</td>\n      <td>0.177874</td>\n      <td>0.100765</td>\n      <td>0.862619</td>\n      <td>0.851652</td>\n    </tr>\n    <tr>\n      <th>18</th>\n      <td>0.195023</td>\n      <td>0.112536</td>\n      <td>0.110201</td>\n      <td>0.120988</td>\n      <td>0.179705</td>\n      <td>0.110201</td>\n      <td>0.784985</td>\n      <td>0.778940</td>\n    </tr>\n  </tbody>\n</table>\n</div>"
     },
     "execution_count": 41,
     "metadata": {},
     "output_type": "execute_result"
    }
   ],
   "source": [
    "df_mean"
   ],
   "metadata": {
    "collapsed": false
   }
  },
  {
   "cell_type": "code",
   "execution_count": 56,
   "outputs": [
    {
     "data": {
      "text/plain": "<Figure size 576x360 with 1 Axes>",
      "image/png": "[encoded data removed]"
     },
     "metadata": {},
     "output_type": "display_data"
    }
   ],
   "source": [
    "plt.style.use({'figure.facecolor':'white'})\n",
    "plt.figure(figsize=(8, 5))\n",
    "xs = sorted(set(df.step))\n",
    "# legend_labels = ['Unmitigated', 'MLP', 'MLP (diff. noise)', 'RF', 'RF (diff. noise']\n",
    "# for i, col in enumerate(['L2_noisy', 'L2_gnn', 'L2_mlp', 'L2_rfr_list', 'L2_ols_full', 'L2_zne']):\n",
    "legend_labels = ['Unmitigated', 'MLP', 'MLP (diff. noise)', 'RF', 'RF (diff. noise)', 'RF (zero noisy exp vals)']\n",
    "for i, col in enumerate(['L2_noisy', 'L2_mlp_1', 'L2_mlp_2', 'L2_rfr_list_1', 'L2_rfr_list_2', 'L2_rfr_list_3']):\n",
    "    plt.plot(xs, df_mean[col], label=legend_labels[i], marker='.')\n",
    "    plt.fill_between(x=xs, y1=df_mean[col]-df_ste[col], y2=df_mean[col]+df_ste[col], alpha=0.2)\n",
    "plt.xlabel('Two-qubit gate depth')\n",
    "plt.ylabel(r'Mean $L_2$-distance from the Ideal')\n",
    "# plt.ylim([0, 0.53])\n",
    "plt.xlim([0, 18])\n",
    "ymin, ymax = plt.gca().get_ylim()\n",
    "plt.ylim(ymin, ymax)\n",
    "plt.legend()\n",
    "plt.grid(None)\n",
    "plt.show()"
   ],
   "metadata": {
    "collapsed": false
   }
  },
  {
   "cell_type": "code",
   "execution_count": 53,
   "outputs": [],
   "source": [
    "# to_dump = {\n",
    "#     'df': df,\n",
    "#     'df_mean': df_mean,\n",
    "#     'df_ste': df_ste,\n",
    "# }\n",
    "# with open('/Users/haoranliao/GitHub/blackwater/docs/paper_figures/no_readout_over_depths.pk', 'wb') as file:\n",
    "#     pickle.dump(to_dump, file)"
   ],
   "metadata": {
    "collapsed": false
   }
  },
  {
   "cell_type": "markdown",
   "source": [],
   "metadata": {
    "collapsed": false
   }
  },
  {
   "cell_type": "markdown",
   "source": [],
   "metadata": {
    "collapsed": false
   }
  },
  {
   "cell_type": "markdown",
   "source": [],
   "metadata": {
    "collapsed": false
   }
  },
  {
   "cell_type": "code",
   "execution_count": null,
   "outputs": [],
   "source": [
    "# df_hue = []\n",
    "# for i in range(len(df)):\n",
    "#     for col in ['RMSE_noisy', 'RMSE_rfr_list', 'RMSE_zne']:\n",
    "#         df_hue.append([df.loc[i, 'step'], df.loc[i, col], col])\n",
    "# df_hue = pd.DataFrame(df_hue)\n",
    "# df_hue.columns = ['step', 'RMSE', 'name']\n",
    "#\n",
    "# plt.figure(figsize=(15, 5))\n",
    "# plt.style.use({'figure.facecolor':'white'})\n",
    "# g = sns.boxplot(data=df_hue, x='step', y='RMSE', hue='name')\n",
    "# g.legend(title=\"\")\n",
    "# new_legend_labels = ['Unmitigated', 'Mitigated by RF', 'Mitigated by ZNE']\n",
    "# for i in range(3):\n",
    "#     g.legend_.texts[i].set_text(new_legend_labels[i])\n",
    "# plt.xlabel('Trotter Steps')\n",
    "# plt.ylabel('RMSE from Ideal Expectation Values')\n",
    "# plt.show()"
   ],
   "metadata": {
    "collapsed": false
   }
  },
  {
   "cell_type": "code",
   "execution_count": 21,
   "outputs": [
    {
     "data": {
      "text/plain": "<Figure size 576x432 with 1 Axes>",
      "image/png": "[encoded data removed]"
     },
     "metadata": {},
     "output_type": "display_data"
    }
   ],
   "source": [
    "plt.style.use({'figure.facecolor':'white'})\n",
    "plt.figure(figsize=(8, 6))\n",
    "ax = sns.violinplot(data=df[['L2_noisy', 'L2_gnn', 'L2_mlp', 'L2_rfr_list', 'L2_ols_full', 'L2_zne']])\n",
    "# labels = ax.get_xticklabels()\n",
    "ax.set_xticklabels(['Unmitigated', 'GNN Mitigated', 'MLP Mitigated', 'RF Mitigated', 'OLS Mitigated', 'ZNE Mitigated'])\n",
    "plt.ylabel(r'$L_2$-distance from Ideal')\n",
    "# plt.ylim([-0.003, 0.02])\n",
    "ax.grid(False)\n",
    "plt.show()"
   ],
   "metadata": {
    "collapsed": false
   }
  },
  {
   "cell_type": "code",
   "execution_count": 23,
   "outputs": [],
   "source": [
    "# to_dump = {\n",
    "#     'df': df,\n",
    "# }\n",
    "# with open('/Users/haoranliao/GitHub/blackwater/docs/paper_figures/random_circuits.pk', 'wb') as file:\n",
    "#     pickle.dump(to_dump, file)"
   ],
   "metadata": {
    "collapsed": false
   }
  }
 ],
 "metadata": {
  "kernelspec": {
   "display_name": "Python 3",
   "language": "python",
   "name": "python3"
  },
  "language_info": {
   "codemirror_mode": {
    "name": "ipython",
    "version": 2
   },
   "file_extension": ".py",
   "mimetype": "text/x-python",
   "name": "python",
   "nbconvert_exporter": "python",
   "pygments_lexer": "ipython2",
   "version": "2.7.6"
  }
 },
 "nbformat": 4,
 "nbformat_minor": 0
}
